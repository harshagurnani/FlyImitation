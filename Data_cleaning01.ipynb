{
 "cells": [
  {
   "cell_type": "markdown",
   "metadata": {},
   "source": [
    "# Imports set up rendering"
   ]
  },
  {
   "cell_type": "code",
   "execution_count": null,
   "metadata": {},
   "outputs": [],
   "source": [
    "#@title Check if MuJoCo installation was successful\n",
    "\n",
    "import distutils.util\n",
    "import os\n",
    "import subprocess\n",
    "if subprocess.run('nvidia-smi').returncode:\n",
    "  raise RuntimeError(\n",
    "      'Cannot communicate with GPU. '\n",
    "      'Make sure you are using a GPU Colab runtime. '\n",
    "      'Go to the Runtime menu and select Choose runtime type.')\n",
    "\n",
    "# Add an ICD config so that glvnd can pick up the Nvidia EGL driver.\n",
    "# This is usually installed as part of an Nvidia driver package, but the Colab\n",
    "# kernel doesn't install its driver via APT, and as a result the ICD is missing.\n",
    "# (https://github.com/NVIDIA/libglvnd/blob/master/src/EGL/icd_enumeration.md)\n",
    "NVIDIA_ICD_CONFIG_PATH = '/usr/share/glvnd/egl_vendor.d/10_nvidia.json'\n",
    "if not os.path.exists(NVIDIA_ICD_CONFIG_PATH):\n",
    "  with open(NVIDIA_ICD_CONFIG_PATH, 'w') as f:\n",
    "    f.write(\"\"\"{\n",
    "    \"file_format_version\" : \"1.0.0\",\n",
    "    \"ICD\" : {\n",
    "        \"library_path\" : \"libEGL_nvidia.so.0\"\n",
    "    }\n",
    "}\n",
    "\"\"\")\n",
    "\n",
    "# Configure MuJoCo to use the EGL rendering backend (requires GPU)\n",
    "print('Setting environment variable to use GPU rendering:')\n",
    "# %env MUJOCO_GL=egl\n",
    "os.environ['MUJOCO_GL'] = 'egl'\n",
    "os.environ['PYOPENGL_PLATFORM'] = 'egl'\n",
    "try:\n",
    "  print('Checking that the installation succeeded:')\n",
    "  import mujoco\n",
    "  mujoco.MjModel.from_xml_string('<mujoco/>')\n",
    "except Exception as e:\n",
    "  raise e from RuntimeError(\n",
    "      'Something went wrong during installation. Check the shell output above '\n",
    "      'for more information.\\n'\n",
    "      'If using a hosted Colab runtime, make sure you enable GPU acceleration '\n",
    "      'by going to the Runtime menu and selecting \"Choose runtime type\".')\n",
    "\n",
    "print('Installation successful.')\n",
    "\n",
    "# Tell XLA to use Triton GEMM, this improves steps/sec by ~30% on some GPUs\n",
    "os.environ[\"XLA_FLAGS\"] = (\n",
    "    \"--xla_gpu_enable_triton_softmax_fusion=true \"\n",
    "    \"--xla_gpu_triton_gemm_any=True \"\n",
    "    # \"--xla_gpu_enable_async_collectives=true \"\n",
    "    # \"--xla_gpu_enable_latency_hiding_scheduler=true \"\n",
    "    # \"--xla_gpu_enable_highest_priority_async_stream=true \"\n",
    ")\n",
    "os.environ['CUDA_VISIBLE_DEVICES'] = '1' # Use GPU 1"
   ]
  },
  {
   "cell_type": "code",
   "execution_count": null,
   "metadata": {},
   "outputs": [],
   "source": [
    "%load_ext autoreload\n",
    "%autoreload 2\n",
    "import os\n",
    "\n",
    "os.environ[\"XLA_PYTHON_CLIENT_MEM_FRACTION\"] = \"0.95\"\n",
    "# os.environ[\"CUDA_VISIBLE_DEVICES\"] = \"1\"  # Use GPU 1\n",
    "import functools\n",
    "import jax\n",
    "# jax.config.update(\"jax_enable_x64\", True)\n",
    "\n",
    "n_gpus = jax.device_count(backend=\"gpu\")\n",
    "print(f\"Using {n_gpus} GPUs\")\n",
    "from typing import Dict\n",
    "from brax import envs\n",
    "import mujoco\n",
    "import pickle\n",
    "import warnings\n",
    "import mediapy as media\n",
    "import hydra\n",
    "import jax.numpy as jp\n",
    "\n",
    "from omegaconf import DictConfig, OmegaConf\n",
    "from brax.training.agents.ppo import networks as ppo_networks\n",
    "from custom_brax import custom_ppo as ppo\n",
    "from custom_brax import custom_wrappers\n",
    "from custom_brax import custom_ppo_networks\n",
    "from orbax import checkpoint as ocp\n",
    "from flax.training import orbax_utils\n",
    "from preprocessing.mjx_preprocess import process_clip_to_train\n",
    "from envs.Fly_Env_Brax import FlyTracking, FlyMultiClipTracking\n",
    "from utils.utils import *\n",
    "from utils.fly_logging import log_eval_rollout\n",
    "\n",
    "warnings.filterwarnings(\"ignore\", category=DeprecationWarning)\n",
    "# jax.config.update(\"jax_enable_x64\", True)\n",
    "\n",
    "from hydra import initialize, compose\n",
    "from hydra.core.hydra_config import HydraConfig\n",
    "from hydra.core.global_hydra import GlobalHydra\n"
   ]
  },
  {
   "cell_type": "markdown",
   "metadata": {},
   "source": [
    "# Load configs"
   ]
  },
  {
   "cell_type": "code",
   "execution_count": null,
   "metadata": {},
   "outputs": [],
   "source": [
    "base_dir ='/data/users/eabe/biomech_model/Flybody/RL_Flybody/ckpt'\n",
    "run_cfg_list = sorted(list(Path(base_dir).rglob('run_config.yaml')))\n",
    "for n, run_cfg in enumerate(run_cfg_list):\n",
    "    print(n, run_cfg)\n",
    "\n",
    "\n",
    "cfg_num = 3\n",
    "cfg = OmegaConf.load(run_cfg_list[cfg_num])\n",
    "run_id = int(run_cfg_list[cfg_num].parent.parent.stem.split('=')[1])\n",
    "print(cfg.dataset.dname)\n",
    "fig_dir = Path('/data/users/eabe/biomech_model/Flybody/RL_Flybody/debug/figures')"
   ]
  },
  {
   "cell_type": "code",
   "execution_count": 5,
   "metadata": {},
   "outputs": [],
   "source": [
    "dataset = cfg.dataset.dname\n",
    "with initialize(version_base=None, config_path=\"configs\"):\n",
    "    cfg_temp=compose(config_name='config.yaml',overrides= [f\"dataset={dataset}\", f\"train=train_{dataset}\", \"paths=walle\", \"version=ckpt\", f'run_id={run_id}'],return_hydra_config=True,)\n",
    "    HydraConfig.instance().set_config(cfg_temp)\n",
    "    \n",
    "cfg.paths = cfg_temp.paths"
   ]
  },
  {
   "cell_type": "code",
   "execution_count": 16,
   "metadata": {},
   "outputs": [],
   "source": [
    "for k in cfg.paths.keys():\n",
    "    if (k != 'user'):\n",
    "        cfg.paths[k] = Path(cfg.paths[k])\n",
    "        cfg.paths[k].mkdir(parents=True, exist_ok=True)\n",
    "env_cfg = cfg.dataset\n",
    "env_args = cfg.dataset.env_args\n",
    "\n",
    "cfg.paths.base_dir = cfg.paths.base_dir.parent / 'ckpt'\n",
    "reference_path = cfg.paths.data_dir/ f\"clips/all_clips_batch_interp.p\"\n",
    "# reference_path = cfg.paths.data_dir/ f\"clips/{cfg.dataset['clip_idx']}\"\n",
    "reference_path.parent.mkdir(parents=True, exist_ok=True)\n",
    "\n",
    "with open(reference_path, \"rb\") as file:\n",
    "    # Use pickle.load() to load the data from the file\n",
    "    reference_clip = pickle.load(file)\n",
    "ref_data = np.concatenate([reference_clip.position,reference_clip.quaternion,reference_clip.joints], axis=-1)"
   ]
  },
  {
   "cell_type": "markdown",
   "metadata": {},
   "source": [
    "# Load env"
   ]
  },
  {
   "cell_type": "code",
   "execution_count": null,
   "metadata": {},
   "outputs": [],
   "source": [
    "from envs.Fly_Env_Brax import FlyTracking, FlyMultiClipTracking, FlyRunSim, _bounded_quat_dist\n",
    "# dataset = 'multiclip'\n",
    "\n",
    "# with initialize(version_base=None, config_path=\"configs\"):\n",
    "#     cfg=compose(config_name='config.yaml',overrides= [f\"dataset=fly_{dataset}\", f\"train=train_fly_{dataset}\", \"paths=walle\"],return_hydra_config=True,)\n",
    "#     HydraConfig.instance().set_config(cfg)\n",
    "\n",
    "\n",
    "# env_args = cfg.dataset.env_args\n",
    "envs.register_environment(\"fly_freejnt_clip\", FlyTracking)\n",
    "envs.register_environment(\"fly_freejnt_multiclip\", FlyMultiClipTracking)\n",
    "envs.register_environment(\"fly_run_policy\", FlyRunSim)\n",
    "# cfg.dataset.env_args.mjcf_path = '/home/eabe/Research/MyRepos/Brax-Rodent-Track/assets/fruitfly/fruitfly_viz_only.xml'\n",
    "# cfg.dataset.env_args.mjcf_path = '/home/eabe/Research/MyRepos/Brax-Rodent-Track/assets/fruitfly/fruitfly_force_fast.xml'\n",
    "print(cfg.train.env_name)\n",
    "cfg.dataset.env_args.iterations = 12\n",
    "cfg.dataset.env_args.ls_iterations = 12\n",
    "env = envs.get_environment(\n",
    "    cfg.train.env_name,\n",
    "    reference_clip=reference_clip,\n",
    "    **cfg.dataset.env_args,\n",
    ")"
   ]
  },
  {
   "cell_type": "code",
   "execution_count": 8,
   "metadata": {},
   "outputs": [],
   "source": [
    "rollout_env = custom_wrappers.RenderRolloutWrapperTracking(env)\n",
    "    \n",
    "# rollout_env = custom_wrappers.RenderRolloutWrapperTracking(env)\n",
    "# define the jit reset/step functions\n",
    "jit_reset = jax.jit(rollout_env.reset)\n",
    "jit_step = jax.jit(rollout_env.step)\n",
    "state = jit_reset(jax.random.PRNGKey(0))\n"
   ]
  },
  {
   "cell_type": "code",
   "execution_count": null,
   "metadata": {},
   "outputs": [],
   "source": [
    "plt.plot(reference_clip.position[0,:,:])"
   ]
  },
  {
   "cell_type": "code",
   "execution_count": 167,
   "metadata": {},
   "outputs": [],
   "source": [
    "policy_data = ioh5.load('/data/users/eabe/biomech_model/Flybody/datasets/Tuthill_data/Torque_control_multiclip.h5')\n"
   ]
  },
  {
   "cell_type": "code",
   "execution_count": null,
   "metadata": {},
   "outputs": [],
   "source": [
    "spec = mujoco.MjSpec()\n",
    "spec = spec.from_file(cfg.dataset.rendering_mjcf)\n",
    "mj_model = spec.compile()\n",
    "print(cfg.dataset.rendering_mjcf)\n",
    "mj_model.opt.solver = {\n",
    "    \"cg\": mujoco.mjtSolver.mjSOL_CG,\n",
    "    \"newton\": mujoco.mjtSolver.mjSOL_NEWTON,\n",
    "}[\"cg\"]\n",
    "mj_model.opt.iterations = cfg.dataset.env_args.iterations\n",
    "mj_model.opt.ls_iterations = cfg.dataset.env_args.ls_iterations\n",
    "mj_model.opt.timestep = env.sys.mj_model.opt.timestep\n",
    "\n",
    "mj_data = mujoco.MjData(mj_model)\n",
    "site_id = [\n",
    "    mj_model.site(i).id\n",
    "    for i in range(mj_model.nsite)\n",
    "    if \"-0\" in mj_model.site(i).name\n",
    "]\n",
    "for id in site_id:\n",
    "    mj_model.site(id).rgba = [1, 0, 0, 1]\n",
    "\n",
    "scene_option = mujoco.MjvOption()\n",
    "scene_option.sitegroup[:] = [1, 1, 1, 1, 1, 0]\n",
    "scene_option.flags[mujoco.mjtVisFlag.mjVIS_CONTACTPOINT] = True\n",
    "scene_option.flags[mujoco.mjtVisFlag.mjVIS_CONTACTFORCE] = True\n",
    "\n",
    "# save rendering and log to wandb\n",
    "os.environ[\"MUJOCO_GL\"] = \"osmesa\"\n",
    "mujoco.mj_kinematics(mj_model, mj_data)\n",
    "# renderer = mujoco.Renderer(mj_model, height=512, width=512)\n",
    "\n",
    "frames = []\n",
    "clip_idx = 0\n",
    "qposes_ref = ref_data[clip_idx]\n",
    "# qposes_rollout = np.concatenate([all_clips_reference.position,all_clips_reference.quaternion,all_clips_reference.joints], axis=-1)[clip_idx]\n",
    "qposes_rollout = policy_data['qposes'][clip_idx]\n",
    "# render while stepping using mujoco\n",
    "with mujoco.Renderer(mj_model, height=480, width=480) as renderer:\n",
    "    for qpos1, qpos2 in zip(qposes_rollout, qposes_ref):\n",
    "        mj_data.qpos = np.append(qpos1, qpos2)\n",
    "        mujoco.mj_forward(mj_model, mj_data)\n",
    "        renderer.update_scene(mj_data, camera=1, scene_option=scene_option)\n",
    "        pixels = renderer.render()\n",
    "        frames.append(pixels)\n"
   ]
  },
  {
   "cell_type": "code",
   "execution_count": null,
   "metadata": {},
   "outputs": [],
   "source": [
    "media.show_video(frames, fps=50)"
   ]
  },
  {
   "cell_type": "code",
   "execution_count": null,
   "metadata": {},
   "outputs": [],
   "source": [
    "qposes_rollout[10].copy(), ctrl_all[10]"
   ]
  },
  {
   "cell_type": "code",
   "execution_count": null,
   "metadata": {},
   "outputs": [],
   "source": [
    "\n",
    "model_path = \"/home/eabe/Research/MyRepos/Brax-Rodent-Track/assets/fruitfly/fruitfly_force_fastviz.xml\"\n",
    "spec = mujoco.MjSpec()\n",
    "spec = spec.from_file(model_path)\n",
    "# first_joint = thorax.first_joint()\n",
    "# first_joint.delete()\n",
    "root = spec.compile()\n",
    "root.opt.solver = {\n",
    "    \"cg\": mujoco.mjtSolver.mjSOL_CG,\n",
    "    \"newton\": mujoco.mjtSolver.mjSOL_NEWTON,\n",
    "}[cfg.dataset.env_args.solver.lower()]\n",
    "root.opt.iterations = env_args.iterations\n",
    "root.opt.ls_iterations = env_args.ls_iterations\n",
    "root.opt.timestep = env_args.physics_timestep\n",
    "root.opt.jacobian = 0\n",
    "data = mujoco.MjData(root)\n",
    "mujoco.mj_forward(root, data)\n",
    "\n",
    "\n",
    "n_frames = 1000\n",
    "height = 512\n",
    "width = 512\n",
    "frames = []\n",
    "fps = 1/.002\n",
    "\n",
    "times = []\n",
    "sensordata = []\n",
    "scene_option = mujoco.MjvOption()\n",
    "scene_option.sitegroup[:] = [1, 1, 1, 1, 1, 0]\n",
    "clip_idx=1\n",
    "scene_option.flags[mujoco.mjtVisFlag.mjVIS_CONTACTPOINT] = True\n",
    "scene_option.flags[mujoco.mjtVisFlag.mjVIS_CONTACTFORCE] = True\n",
    "qpos_all,rollout,ncon_all = [],[],[]\n",
    "# ref_data = np.concatenate([all_clips_reference.position,all_clips_reference.quaternion,all_clips_reference.joints], axis=-1)\n",
    "ctrl_all = policy_data['ctrl'][clip_idx]\n",
    "with mujoco.Renderer(root, height, width) as renderer:\n",
    "    for t in range(n_frames):\n",
    "        # data.qpos = ref_data[clip_idx,t]\n",
    "        data.ctrl = ctrl_all[t].copy()\n",
    "        data.qpos = qposes_rollout[t].copy()\n",
    "        # # data.qpos = np.concatenate([reference_clip.position[clip_idx][t],reference_clip.quaternion[clip_idx][t],reference_clip.joints[clip_idx][t]])\n",
    "        while data.time < t/fps:\n",
    "            mujoco.mj_step(root, data)\n",
    "            sensordata.append(data.sensordata.copy())\n",
    "        times.append(data.time)\n",
    "        renderer.update_scene(data,camera='track2',scene_option=scene_option)\n",
    "        frame = renderer.render()\n",
    "        frames.append(frame)\n",
    "        qpos_all.append(data.qpos.copy())\n",
    "        ncon_all.append(data.ncon)\n",
    "        rollout.append(data)\n",
    "\n",
    "media.show_video(frames, fps=50)\n"
   ]
  },
  {
   "cell_type": "code",
   "execution_count": 189,
   "metadata": {},
   "outputs": [],
   "source": [
    "_pos_reward_weight = 1\n",
    "_joint_reward_weight = 1\n",
    "_angvel_reward_weight = 1\n",
    "_bodypos_reward_weight = 1\n",
    "_endeff_reward_weight = 1\n",
    "_quat_reward_weight = 1\n",
    "_pos_scaling = 400.0\n",
    "_joint_scaling = 0.25\n",
    "_angvel_scaling = 0.5\n",
    "_bodypos_scaling = 0.5\n",
    "_endeff_scaling = 0.05\n",
    "_quat_scaling = 4.0\n",
    "clip_idx=1\n",
    "rewards = {'pos':[],'joint':[], 'angvel':[], 'bodypos':[], 'endeff':[],'pos_reward':[], 'joint_reward':[], 'angvel_reward':[], 'bodypos_reward':[], 'endeff_reward':[], 'quat_distance':[], 'quat_reward':[]}\n",
    "for cur_frame in range (n_frames): \n",
    "    data= rollout[cur_frame]\n",
    "    \n",
    "    quat_track = reference_clip.position[clip_idx,cur_frame]\n",
    "    pos_distance = jp.sum((data.qpos[:3] - quat_track)**2)\n",
    "    pos_reward = _pos_reward_weight * jp.exp(-_pos_scaling * pos_distance)\n",
    "    \n",
    "    quat_track = reference_clip.quaternion[clip_idx,cur_frame]\n",
    "    quat_distance = jp.sum(_bounded_quat_dist(data.qpos[3:7], quat_track) ** 2)\n",
    "    quat_reward = _quat_reward_weight * jp.exp(-_quat_scaling * quat_distance)\n",
    "    \n",
    "    joint_track = reference_clip.joints[clip_idx,cur_frame]\n",
    "    joint_distance = jp.sum((data.qpos[7:] - joint_track) ** 2)\n",
    "    joint_reward = _joint_reward_weight * jp.exp(-_joint_scaling * joint_distance)\n",
    "    \n",
    "    angvel_track = reference_clip.angular_velocity[clip_idx,cur_frame]\n",
    "    angvel_distance = jp.sum((data.qvel[3:6] - angvel_track) ** 2)\n",
    "    angvel_reward = _angvel_reward_weight * jp.exp(-_angvel_scaling * angvel_distance)\n",
    "    \n",
    "    bodypos_track = reference_clip.body_positions[clip_idx,cur_frame]\n",
    "    bodypos_distance = jp.sum((data.xpos[env._body_idxs]- bodypos_track[env._body_idxs]).flatten()** 2)\n",
    "    bodypos_reward = _bodypos_reward_weight * jp.exp(-_bodypos_scaling* bodypos_distance)\n",
    "    \n",
    "    endeff_track = reference_clip.body_positions[clip_idx,cur_frame]\n",
    "    endeff_distance = jp.sum((data.xpos[env._endeff_idxs]- endeff_track[env._endeff_idxs]).flatten()** 2)\n",
    "    endeff_reward = _endeff_reward_weight * jp.exp(-_endeff_scaling* endeff_distance)\n",
    "\n",
    "        \n",
    "    rewards['pos'].append(pos_distance)\n",
    "    rewards['joint'].append(joint_distance)\n",
    "    rewards['angvel'].append(angvel_distance)\n",
    "    rewards['bodypos'].append(bodypos_distance)\n",
    "    rewards['endeff'].append(endeff_distance)\n",
    "    rewards['quat_distance'].append(quat_distance)\n",
    "    \n",
    "    rewards['pos_reward'].append(pos_reward)\n",
    "    rewards['joint_reward'].append(joint_reward)\n",
    "    rewards['angvel_reward'].append(angvel_reward)\n",
    "    rewards['bodypos_reward'].append(bodypos_reward)\n",
    "    rewards['endeff_reward'].append(endeff_reward)\n",
    "    rewards['quat_reward'].append(quat_reward)\n",
    "    \n"
   ]
  },
  {
   "cell_type": "code",
   "execution_count": null,
   "metadata": {},
   "outputs": [],
   "source": [
    "\n",
    "fig, axs = plt.subplots(2,1, figsize=(10,10))\n",
    "ax = axs[0]\n",
    "# ax.plot(rewards['pos'], label='pos')\n",
    "# ax.plot(rewards['joint'], label='joint')\n",
    "# ax.plot(rewards['angvel'], label='angvel')\n",
    "# ax.plot(rewards['bodypos'], label='bodypos')\n",
    "ax.plot(rewards['endeff'], label='endeff')\n",
    "ax.plot(rewards['quat_distance'], label='quat_distance')\n",
    "ax.legend()\n",
    "\n",
    "ax = axs[1]\n",
    "ax.plot(rewards['pos_reward'], label='pos_reward')\n",
    "ax.plot(rewards['joint_reward'], label='joint_reward')\n",
    "# ax.plot(rewards['angvel_reward'], label='angvel_reward')\n",
    "# ax.plot(rewards['bodypos_reward'], label='bodypos_reward')\n",
    "ax.plot(rewards['endeff_reward'], label='endeff_reward')\n",
    "ax.plot(rewards['quat_reward'], label='quat_reward')\n",
    "ax.legend()\n",
    "ax.set_ylim(-.1,1.1)\n",
    "\n"
   ]
  },
  {
   "cell_type": "code",
   "execution_count": null,
   "metadata": {},
   "outputs": [],
   "source": [
    "joint_distance"
   ]
  },
  {
   "cell_type": "code",
   "execution_count": null,
   "metadata": {},
   "outputs": [],
   "source": [
    "plt.plot(ncon_all)"
   ]
  },
  {
   "cell_type": "code",
   "execution_count": null,
   "metadata": {},
   "outputs": [],
   "source": [
    "end_eff = [\n",
    "'claw_T1_left',\n",
    "'claw_T1_right',\n",
    "'claw_T2_left',\n",
    "'claw_T2_right',\n",
    "'claw_T3_left',\n",
    "'claw_T3_right',\n",
    "]\n",
    "N = 10\n",
    "sdata = (np.stack(sensordata).reshape(-1,6,3)) # Time x end_eff x xyz, x=forward\n",
    "sdata = 10* np.apply_along_axis(lambda m: np.convolve(m, np.ones(N)/N, mode='full'), axis=0, arr=sdata)\n",
    "\n",
    "fig, axs = plt.subplots(3, 2, figsize=(10, 10), sharey=True)\n",
    "axs = axs.flatten()\n",
    "for n in range(len(end_eff)):\n",
    "    ax = axs[n]\n",
    "    ax.plot(sdata[:,n,0])\n",
    "    ax.plot(sdata[:,n,1])\n",
    "    ax.plot(sdata[:,n,2])\n",
    "# plt.plot(sdata[:,:,2])"
   ]
  },
  {
   "cell_type": "code",
   "execution_count": null,
   "metadata": {},
   "outputs": [],
   "source": []
  },
  {
   "cell_type": "markdown",
   "metadata": {},
   "source": [
    "# Cleaning Data"
   ]
  },
  {
   "cell_type": "code",
   "execution_count": 108,
   "metadata": {},
   "outputs": [],
   "source": [
    "import pandas as pd\n",
    "base_path = Path('/data/users/eabe/biomech_model/Flybody/datasets/Tuthill_data/')\n",
    "data_path = base_path / 'combined_wt_berlin_walking_v3.pq'\n",
    "full_df = pd.read_parquet(data_path, engine='pyarrow')\n",
    "bout_stats = full_df.groupby(['walking_bout_number','fullfile','Sex'])[['fictrac_delta_rot_lab_y_mms', 'fictrac_delta_rot_lab_z_deg/s']].agg(['mean','min','max','std','count'])\n",
    "fast = (bout_stats[('fictrac_delta_rot_lab_y_mms','mean')] >= 12) & (bout_stats[('fictrac_delta_rot_lab_y_mms','min')] >= 10)\n",
    "straight = (bout_stats[('fictrac_delta_rot_lab_z_deg/s','mean')].abs() <= 45) &\\\n",
    "           (bout_stats[('fictrac_delta_rot_lab_z_deg/s','min')] >= -60) &\\\n",
    "           (bout_stats[('fictrac_delta_rot_lab_z_deg/s','max')] <= 60)\n",
    "\n",
    "legs = ['T1_left', 'T1_right', 'T2_left', 'T2_right', 'T3_left', 'T3_right']\n",
    "joints = ['coxa', 'femur', 'tibia', 'tarsus']\n",
    "xpos_geoms = ['coxa', 'femur', 'tibia', 'tarsus', 'claw']\n",
    "joint_names = [f'{joint}_{leg}' for leg in legs for joint in joints]\n",
    "xpos_names = [f'{joint}_{leg}' for leg in legs for joint in xpos_geoms]\n",
    "# physics.named.data.framepos[pos_names]\n",
    "site_names = [f'tracking[{joint_name}]' for joint_name in xpos_names]\n",
    "\n",
    "legs_data = ['L1', 'R1', 'L2','R2', 'L3','R3']\n",
    "joints_data = ['A','B','C','D','E']\n",
    "coords_data = ['_x','_y','_z']\n",
    "joint_pos_columns = [leg + joint + coord \n",
    "                     for leg in legs_data\n",
    "                     for joint in joints_data \n",
    "                     for coord in coords_data]\n",
    "\n",
    "straight_bouts = bout_stats[fast & straight].index\n",
    "straight_bout_num = np.array([i[0] for i in straight_bouts],dtype=int)\n",
    "mean_straight_bout = (full_df[full_df['walking_bout_number'] == 14574][joint_pos_columns].values.reshape(-1,30, 3)).mean(axis=0)\n",
    "ref_bout = (full_df[full_df['walking_bout_number'] == 14574][joint_pos_columns].values.reshape(-1,30, 3))\n",
    "bout_dict = {'walking_bout{:02}'.format(n):{} for n in range(len(straight_bout_num))}\n",
    "\n",
    "for n, bout_num in enumerate(straight_bout_num):\n",
    "    bout = full_df[full_df['walking_bout_number'] == bout_num]\n",
    "    bout_dict['walking_bout{:02}'.format(n)]['orig_xpos'] = bout[joint_pos_columns].values.reshape(-1,30, 3)\n",
    "    bout_dict['walking_bout{:02}'.format(n)]['orig_xpos'] = bout_dict['walking_bout{:02}'.format(n)]['orig_xpos'] + (mean_straight_bout-np.mean(bout_dict['walking_bout{:02}'.format(n)]['orig_xpos'],axis=0))"
   ]
  },
  {
   "cell_type": "code",
   "execution_count": null,
   "metadata": {},
   "outputs": [],
   "source": [
    "for n, bout_num in enumerate(straight_bout_num):\n",
    "    bout = full_df[full_df['walking_bout_number'] == bout_num]\n",
    "    print(n,bout['flyid'].unique())"
   ]
  },
  {
   "cell_type": "code",
   "execution_count": 109,
   "metadata": {},
   "outputs": [],
   "source": [
    "stac_path = Path('/data/users/eabe/biomech_model/Flybody/datasets/Tuthill_data/transform_mocap_fly_freejnt.p')\n",
    "# Load mocap data from a file.\n",
    "with open(stac_path, \"rb\") as file:\n",
    "    d = pickle.load(file)\n",
    "    mocap_qpos = jp.array(d[\"qpos\"])"
   ]
  },
  {
   "cell_type": "code",
   "execution_count": 110,
   "metadata": {},
   "outputs": [],
   "source": [
    "from preprocessing.mjx_preprocess import process_clip, save_reference_clip_to_h5, load_reference_clip_from_h5, ReferenceClip\n",
    "from jax import vmap\n",
    "import mujoco.mjx as mjx"
   ]
  },
  {
   "cell_type": "code",
   "execution_count": null,
   "metadata": {},
   "outputs": [],
   "source": [
    "[col for col in bout.columns if 'fictrac' in col]"
   ]
  },
  {
   "cell_type": "code",
   "execution_count": 112,
   "metadata": {},
   "outputs": [],
   "source": [
    "lin_vel_y_cm, lin_vel_x_cm = [], []\n",
    "for n, bout_num in enumerate(straight_bout_num):\n",
    "    bout = full_df[full_df['walking_bout_number'] == bout_num]\n",
    "    lin_vel_y_cm.append(bout['fictrac_delta_rot_lab_y_mms'].values/10)\n",
    "    lin_vel_x_cm.append(bout['fictrac_delta_rot_lab_x_mms'].values/10)\n",
    "# lin_vel_y_cm = np.concatenate(lin_vel_y_cm,axis=0)\n",
    "clip_shape = np.array([clip.shape[0] for clip in lin_vel_y_cm])\n",
    "clip_shape = np.concatenate([[0],clip_shape])\n",
    "mocap_qpos_reshaped = []\n",
    "for n in range(1,len(clip_shape)-1):\n",
    "    mocap_qpos_reshaped.append(mocap_qpos[np.sum(clip_shape[:n]):np.sum(clip_shape[:n+1])])\n",
    "mocap_qpos_reshaped.append(mocap_qpos[np.sum(clip_shape[:-1]):])\n",
    "lin_vel_y_cm[-1] = lin_vel_y_cm[-1][:mocap_qpos_reshaped[-1].shape[0]]\n",
    "lin_vel_x_cm[-1] = lin_vel_x_cm[-1][:mocap_qpos_reshaped[-1].shape[0]]"
   ]
  },
  {
   "cell_type": "code",
   "execution_count": 113,
   "metadata": {},
   "outputs": [],
   "source": [
    "##### Process clips #####\n",
    "\n",
    "# spec = mujoco.MjSpec()\n",
    "# spec.from_file(cfg.dataset.env_args.mjcf_path)\n",
    "# mj_model = spec.compile()\n",
    "\n",
    "# mj_model.opt.solver = {\n",
    "# \"cg\": mujoco.mjtSolver.mjSOL_CG,\n",
    "# \"newton\": mujoco.mjtSolver.mjSOL_NEWTON,\n",
    "# }[\"cg\"]\n",
    "# mj_model.opt.iterations = cfg.dataset.env_args.iterations\n",
    "# mj_model.opt.ls_iterations = cfg.dataset.env_args.ls_iterations\n",
    "# mj_model.opt.timestep = cfg.dataset.env_args.physics_timestep\n",
    "\n",
    "# mj_data = mujoco.MjData(mj_model)\n",
    "\n",
    "# # Initialize MuJoCo model and data structures & place into GPU\n",
    "# mjx_model = mjx.put_model(mj_model)\n",
    "# mjx_data = mjx.put_data(mj_model, mj_data)\n",
    "\n",
    "# all_clips = []\n",
    "# for n in range(len(mocap_qpos_reshaped)):\n",
    "#     clip=process_clip(mocap_qpos_reshaped[n],mjx_model,mjx_data,max_qvel=20, dt=1/300)\n",
    "#     all_clips.append(clip)"
   ]
  },
  {
   "cell_type": "code",
   "execution_count": 114,
   "metadata": {},
   "outputs": [],
   "source": [
    "clip_names = [f'clip{n:02}' for n in range(len(mocap_qpos_reshaped))]\n",
    "all_clips = load_reference_clip_from_h5('/data/users/eabe/biomech_model/Flybody/datasets/Tuthill_data/clips/all_clips_raw.h5',clip_names)\n",
    "# save_reference_clip_to_h5('/data/users/eabe/biomech_model/Flybody/datasets/Tuthill_data/clips/all_clips_raw.h5',clip_names=clip_names,reference_clip=all_clips_reference)"
   ]
  },
  {
   "cell_type": "code",
   "execution_count": 115,
   "metadata": {},
   "outputs": [],
   "source": [
    "ref_clip = {}\n",
    "ref_clip['position'] = all_clips.position\n",
    "ref_clip['quaternion'] = all_clips.quaternion\n",
    "ref_clip['joints'] = all_clips.joints\n",
    "ref_clip['body_positions'] = all_clips.body_positions\n",
    "ref_clip['velocity'] = all_clips.velocity\n",
    "ref_clip['joints_velocity'] = all_clips.joints_velocity\n",
    "ref_clip['angular_velocity'] = all_clips.angular_velocity\n",
    "ref_clip['body_quaternions'] = all_clips.body_quaternions"
   ]
  },
  {
   "cell_type": "code",
   "execution_count": 52,
   "metadata": {},
   "outputs": [],
   "source": [
    "# reference_path = cfg.paths.data_dir/ f\"clips/all_clips_batch_interp.p\"\n",
    "# # reference_path = cfg.paths.data_dir/ f\"clips/{cfg.dataset['clip_idx']}\"\n",
    "# reference_path.parent.mkdir(parents=True, exist_ok=True)\n",
    "\n",
    "# with open(reference_path, \"rb\") as file:\n",
    "#     # Use pickle.load() to load the data from the file\n",
    "#     all_clips = pickle.load(file)"
   ]
  },
  {
   "cell_type": "code",
   "execution_count": null,
   "metadata": {},
   "outputs": [],
   "source": [
    "n = 0\n",
    "jp.zeros((all_clips.body_positions[n].shape)).shape"
   ]
  },
  {
   "cell_type": "code",
   "execution_count": 54,
   "metadata": {},
   "outputs": [],
   "source": [
    "# body_positions = ref_clip['body_positions']\n",
    "# bodypos_all = []\n",
    "# for n in range(len(all_clips.body_positions)):\n",
    "#     dpos = jp.zeros((all_clips.body_positions[n].shape[0],3))\n",
    "#     dpos = dpos.at[:,0].set(jp.cumsum(lin_vel_y_cm[n])*env.dt)\n",
    "#     dpos = dpos.at[:,1].set(jp.cumsum(lin_vel_x_cm[n])*env.dt)\n",
    "    \n",
    "#     bodypos_all.append(all_clips.body_positions[n]+dpos[:,None,:])\n",
    "\n",
    "# for n in range(len(ref_clip['body_positions'])):\n",
    "#     ref_clip['body_positions'][n] = bodypos_all[n]"
   ]
  },
  {
   "cell_type": "code",
   "execution_count": 116,
   "metadata": {},
   "outputs": [],
   "source": [
    "qpos_all = []\n",
    "for n in range(len(all_clips.position)):\n",
    "    dpos = jp.zeros((all_clips.position[n].shape[0],3))\n",
    "    dpos = dpos.at[:,0].set(jp.cumsum(lin_vel_y_cm[n])*env.dt)\n",
    "    dpos = dpos.at[:,1].set(jp.cumsum(lin_vel_x_cm[n])*env.dt)\n",
    "    \n",
    "    qpos_all.append(all_clips.position[n]+dpos)\n",
    "\n",
    "for n in range(len(ref_clip['position'])):\n",
    "    ref_clip['position'][n] = qpos_all[n]"
   ]
  },
  {
   "cell_type": "markdown",
   "metadata": {},
   "source": [
    "### Interpolate data"
   ]
  },
  {
   "cell_type": "code",
   "execution_count": null,
   "metadata": {},
   "outputs": [],
   "source": [
    "n = 0\n",
    "key = 'position'\n",
    "ref_clip_interp = {key:[] for key in ref_clip.keys()}\n",
    "\n",
    "clip_len = ref_clip[key][n].shape[0]\n",
    "tmax = 1/300 * clip_len # 1/300 is original mocap hz\n",
    "t = jp.linspace(0,tmax,clip_len)\n",
    "t_interp = jp.linspace(0,tmax,1000)\n",
    "ref_clip_interp[key].append(jp.apply_along_axis(lambda fp,x,xp: jp.interp(x,xp,fp), 0, ref_clip[key][n],x=t_interp,xp=t))\n",
    "print(key, ref_clip_interp[key][n].shape)"
   ]
  },
  {
   "cell_type": "code",
   "execution_count": null,
   "metadata": {},
   "outputs": [],
   "source": [
    "ref_clip_interp = {key:[] for key in ref_clip.keys()}\n",
    "for key,val in ref_clip.items():\n",
    "    for n in range(len(val)):\n",
    "        clip_len = ref_clip[key][n].shape[0]\n",
    "        tmax = 1/300 * clip_len # 1/300 is original mocap hz\n",
    "        t = jp.linspace(0,tmax,clip_len)\n",
    "        t_interp = jp.linspace(0,tmax,1000)\n",
    "        ref_clip_interp[key].append(jp.apply_along_axis(lambda fp,x,xp: jp.interp(x,xp,fp), 0, ref_clip[key][n],x=t_interp,xp=t))\n",
    "        print(key, ref_clip_interp[key][n].shape)"
   ]
  },
  {
   "cell_type": "code",
   "execution_count": 57,
   "metadata": {},
   "outputs": [],
   "source": [
    "spec = mujoco.MjSpec()\n",
    "spec = spec.from_file(cfg.dataset.env_args.mjcf_path)\n",
    "mj_model = spec.compile()\n",
    "mj_model.opt.solver = {\n",
    "    \"cg\": mujoco.mjtSolver.mjSOL_CG,\n",
    "    \"newton\": mujoco.mjtSolver.mjSOL_NEWTON,\n",
    "}[\"cg\"]\n",
    "mj_model.opt.iterations = cfg.dataset.env_args.iterations\n",
    "mj_model.opt.ls_iterations = cfg.dataset.env_args.ls_iterations\n",
    "mj_model.opt.timestep = env.sys.mj_model.opt.timestep\n",
    "\n",
    "mj_data = mujoco.MjData(mj_model)\n",
    "\n",
    "scene_option = mujoco.MjvOption()\n",
    "scene_option.sitegroup[:] = [1, 1, 1, 1, 1, 0]\n",
    "scene_option.flags[mujoco.mjtVisFlag.mjVIS_CONTACTPOINT] = True\n",
    "scene_option.flags[mujoco.mjtVisFlag.mjVIS_CONTACTFORCE] = True\n",
    "\n",
    "# save rendering and log to wandb\n",
    "os.environ[\"MUJOCO_GL\"] = \"osmesa\"\n",
    "mujoco.mj_kinematics(mj_model, mj_data)\n",
    "# renderer = mujoco.Renderer(mj_model, height=512, width=512)\n",
    "xpos_all = []\n",
    "for clip_idx in range(env._n_clips):\n",
    "    qposes_rollout = np.concatenate([ref_clip_interp['position'][clip_idx],ref_clip_interp['quaternion'][clip_idx],ref_clip_interp['joints'][clip_idx]],axis=-1)\n",
    "    frames = []\n",
    "    xpos_geoms =[]\n",
    "    # render while stepping using mujoco\n",
    "    # with mujoco.Renderer(mj_model, height=480, width=480) as renderer:\n",
    "    for qpos1 in qposes_rollout:\n",
    "        mj_data.qpos = qpos1\n",
    "        mujoco.mj_forward(mj_model, mj_data)\n",
    "        xpos_geoms.append(mj_data.xpos.copy())\n",
    "        # renderer.update_scene(mj_data, camera=1, scene_option=scene_option)\n",
    "        # pixels = renderer.render()\n",
    "        # frames.append(pixels)\n",
    "    xpos_all.append(jp.stack(xpos_geoms))\n",
    "xpos_all = jp.stack(xpos_all)\n"
   ]
  },
  {
   "cell_type": "code",
   "execution_count": 58,
   "metadata": {},
   "outputs": [],
   "source": [
    "ref_clip_interp['body_positions'] = xpos_all"
   ]
  },
  {
   "cell_type": "code",
   "execution_count": null,
   "metadata": {},
   "outputs": [],
   "source": [
    "env._endeff_idxs"
   ]
  },
  {
   "cell_type": "code",
   "execution_count": null,
   "metadata": {},
   "outputs": [],
   "source": [
    "# plt.plot(xpos_all[0,:,27])\n",
    "# plt.plot(reference_clip.body_positions[0][:,27])\n",
    "plt.plot(all_clips_reference.body_positions[0][:,27])\n",
    "# media.show_video(frames, fps=50)"
   ]
  },
  {
   "cell_type": "code",
   "execution_count": null,
   "metadata": {},
   "outputs": [],
   "source": [
    "for key in ref_clip.keys():\n",
    "    ref_clip_interp[key] = jp.stack(ref_clip_interp[key],axis=0)\n",
    "    print(key, ref_clip_interp[key].shape)\n"
   ]
  },
  {
   "cell_type": "code",
   "execution_count": 118,
   "metadata": {},
   "outputs": [],
   "source": [
    "all_clips_reference = ReferenceClip()\n",
    "all_clips_reference =all_clips_reference.replace(\n",
    "    position=jp.array(ref_clip_interp['position']),\n",
    "    quaternion=jp.array(ref_clip_interp['quaternion']),\n",
    "    joints=jp.array(ref_clip_interp['joints']),\n",
    "    body_positions=jp.array(ref_clip_interp['body_positions']),\n",
    "    velocity=jp.array(ref_clip_interp['velocity']),\n",
    "    joints_velocity=jp.array(ref_clip_interp['joints_velocity']),\n",
    "    angular_velocity=jp.array(ref_clip_interp['angular_velocity']),\n",
    "    body_quaternions=jp.array(ref_clip_interp['body_quaternions']),\n",
    ")"
   ]
  },
  {
   "cell_type": "code",
   "execution_count": 81,
   "metadata": {},
   "outputs": [],
   "source": [
    "\n",
    "reference_path = Path(cfg.paths.data_dir)/ \"clips/all_clips_batch_interp2.p\"\n",
    "with open(reference_path, \"wb\") as file:\n",
    "    # Use pickle.dump() to save the data to the file\n",
    "    pickle.dump(all_clips_reference, file)"
   ]
  },
  {
   "cell_type": "code",
   "execution_count": 15,
   "metadata": {},
   "outputs": [],
   "source": [
    "reference_path = Path('/data/users/eabe/biomech_model/Flybody/datasets/Tuthill_data/clips/all_clips_list_interp.p')\n",
    "with open(reference_path, \"wb\") as file:\n",
    "    # Use pickle.dump() to save the data to the file\n",
    "    pickle.dump(all_clips, file)"
   ]
  },
  {
   "cell_type": "code",
   "execution_count": null,
   "metadata": {},
   "outputs": [],
   "source": [
    "all_clips_reference.position.shape"
   ]
  },
  {
   "cell_type": "code",
   "execution_count": 20,
   "metadata": {},
   "outputs": [],
   "source": [
    "all_ref_clip = {}\n",
    "all_ref_clip['position'] = reference_clip.position\n",
    "all_ref_clip['quaternion'] = reference_clip.quaternion\n",
    "all_ref_clip['joints'] = reference_clip.joints\n",
    "all_ref_clip['body_positions'] =reference_clip.body_positions\n",
    "all_ref_clip['velocity'] = reference_clip.velocity\n",
    "all_ref_clip['joints_velocity'] = reference_clip.joints_velocity\n",
    "all_ref_clip['angular_velocity'] = reference_clip.angular_velocity\n",
    "all_ref_clip['body_quaternions'] = reference_clip.body_quaternions"
   ]
  },
  {
   "cell_type": "code",
   "execution_count": 19,
   "metadata": {},
   "outputs": [],
   "source": [
    "reference_path = Path(cfg.paths.data_dir)/ f\"clips/all_clips_interp.p\"\n",
    "# reference_path = cfg.paths.data_dir/ f\"clips/0.p\"\n",
    "reference_path.parent.mkdir(parents=True, exist_ok=True)\n",
    "\n",
    "with open(reference_path, \"rb\") as file:\n",
    "    # Use pickle.load() to load the data from the file\n",
    "    reference_clip = pickle.load(file)"
   ]
  },
  {
   "cell_type": "code",
   "execution_count": null,
   "metadata": {},
   "outputs": [],
   "source": [
    "np.cumsum([reference_clip.position[n].shape[0] for n in range(len(reference_clip.position))])"
   ]
  },
  {
   "cell_type": "code",
   "execution_count": 71,
   "metadata": {},
   "outputs": [],
   "source": [
    "all_ref_clip = {}\n",
    "all_ref_clip['position'] = jp.concatenate([clip for clip in reference_clip.position],axis=0)\n",
    "all_ref_clip['quaternion'] = jp.concatenate([clip for clip in reference_clip.quaternion],axis=0)\n",
    "all_ref_clip['joints'] = jp.concatenate([clip for clip in reference_clip.joints],axis=0)\n",
    "all_ref_clip['body_positions'] = jp.concatenate([clip for clip in reference_clip.body_positions],axis=0)\n",
    "all_ref_clip['velocity'] = jp.concatenate([clip for clip in reference_clip.velocity],axis=0)\n",
    "all_ref_clip['joints_velocity'] = jp.concatenate([clip for clip in reference_clip.joints_velocity],axis=0)\n",
    "all_ref_clip['angular_velocity'] = jp.concatenate([clip for clip in reference_clip.angular_velocity],axis=0)\n",
    "all_ref_clip['body_quaternions'] = jp.concatenate([clip for clip in reference_clip.body_quaternions],axis=0)"
   ]
  },
  {
   "cell_type": "code",
   "execution_count": null,
   "metadata": {},
   "outputs": [],
   "source": [
    "all_clips = []\n",
    "for n in range(len(all_ref_clip['position'])):\n",
    "    temp_clip = ReferenceClip()\n",
    "    temp_clip = temp_clip.replace(\n",
    "        position = all_ref_clip['position'][n],\n",
    "        quaternion = all_ref_clip['quaternion'][n],\n",
    "        joints = all_ref_clip['joints'][n],\n",
    "        body_positions = all_ref_clip['body_positions'][n],\n",
    "        velocity = all_ref_clip['velocity'][n],\n",
    "        joints_velocity = all_ref_clip['joints_velocity'][n],\n",
    "        angular_velocity = all_ref_clip['angular_velocity'][n],\n",
    "        body_quaternions = all_ref_clip['body_quaternions'][n]\n",
    "    )\n",
    "    all_clips.append(temp_clip)"
   ]
  },
  {
   "cell_type": "code",
   "execution_count": null,
   "metadata": {},
   "outputs": [],
   "source": [
    "reference_clip.position[5]"
   ]
  },
  {
   "cell_type": "code",
   "execution_count": 77,
   "metadata": {},
   "outputs": [],
   "source": []
  },
  {
   "cell_type": "code",
   "execution_count": 169,
   "metadata": {},
   "outputs": [],
   "source": []
  },
  {
   "cell_type": "code",
   "execution_count": null,
   "metadata": {},
   "outputs": [],
   "source": [
    "reference_path = Path(cfg.paths.data_dir)/ f\"clips/all_clips_interp.p\"\n",
    "# reference_path = cfg.paths.data_dir/ f\"clips/0.p\"\n",
    "reference_path.parent.mkdir(parents=True, exist_ok=True)\n",
    "\n",
    "with open(reference_path, \"rb\") as file:\n",
    "    # Use pickle.load() to load the data from the file\n",
    "    reference_clip = pickle.load(file)"
   ]
  },
  {
   "cell_type": "code",
   "execution_count": 15,
   "metadata": {},
   "outputs": [],
   "source": [
    "clip_lengths = jp.array([reference_clip.position[n].shape[0] for n in range(len(reference_clip.position))])\n",
    "clip_start_inds = np.concatenate(([0],np.cumsum(clip_lengths)[:-1]),axis=0)"
   ]
  },
  {
   "cell_type": "code",
   "execution_count": null,
   "metadata": {},
   "outputs": [],
   "source": [
    "clip_lengths"
   ]
  },
  {
   "cell_type": "code",
   "execution_count": 146,
   "metadata": {},
   "outputs": [],
   "source": [
    "reference_clip = reference_clip.replace(\n",
    "    position = all_ref_clip['position'],\n",
    "    quaternion = all_ref_clip['quaternion'],\n",
    "    joints = all_ref_clip['joints'],\n",
    "    body_positions = all_ref_clip['body_positions'],\n",
    "    velocity = all_ref_clip['velocity'],\n",
    "    joints_velocity = all_ref_clip['joints_velocity'],\n",
    "    angular_velocity = all_ref_clip['angular_velocity'],\n",
    "    body_quaternions = all_ref_clip['body_quaternions'],\n",
    ")"
   ]
  },
  {
   "cell_type": "markdown",
   "metadata": {},
   "source": [
    "## Treadmill data"
   ]
  },
  {
   "cell_type": "code",
   "execution_count": 33,
   "metadata": {},
   "outputs": [],
   "source": [
    "import pandas as pd\n",
    "base_path = Path('/data/users/eabe/biomech_model/Flybody/datasets/Tuthill_data/')\n",
    "\n",
    "tredmill_data = pd.read_csv(base_path/'wt_berlin_linear_treadmill_dataset.csv')\n",
    "kp_names = ['head', 'thorax', 'abdomen', 'r1', 'r2', 'r3', 'l1', 'l2', 'l3']\n",
    "coords = ['_x', '_y', '_z']\n",
    "df_names = [kp+coord for kp in kp_names for coord in coords]\n",
    "kp_data_all = tredmill_data[df_names].values\n",
    "\n",
    "sorted_kp_names = kp_names\n",
    "kp_data = .3*kp_data_all.copy().reshape(1800,-1,27)\n",
    "belt_speed = tredmill_data['belt speed (mm/s)'].values.reshape(1800,-1)"
   ]
  },
  {
   "cell_type": "code",
   "execution_count": 21,
   "metadata": {},
   "outputs": [],
   "source": [
    "stac_path = Path('/data/users/eabe/biomech_model/Flybody/datasets/Tuthill_data/transform_treadmill.p')\n",
    "# stac_path = Path('/data/users/eabe/biomech_model/Flybody/datasets/Tuthill_data/transform_mocap_fly_freejnt.p')\n",
    "# Load mocap data from a file.\n",
    "with open(stac_path, \"rb\") as file:\n",
    "    d = pickle.load(file)\n",
    "    mocap_qpos = jp.array(d[\"qpos\"])"
   ]
  },
  {
   "cell_type": "code",
   "execution_count": null,
   "metadata": {},
   "outputs": [],
   "source": [
    "mocap_qpos.reshape(581,1800,-1).shape"
   ]
  },
  {
   "cell_type": "code",
   "execution_count": null,
   "metadata": {},
   "outputs": [],
   "source": [
    "1045800/1800"
   ]
  },
  {
   "cell_type": "code",
   "execution_count": 10,
   "metadata": {},
   "outputs": [],
   "source": [
    "fly_skel = ((0,1),(1,2),(1,3),(1,4),(1,6),(1,7),(1,8))\n"
   ]
  },
  {
   "cell_type": "code",
   "execution_count": 29,
   "metadata": {},
   "outputs": [],
   "source": [
    "kp_data = kp_data.reshape(1800,581,3,-1)"
   ]
  },
  {
   "cell_type": "code",
   "execution_count": null,
   "metadata": {},
   "outputs": [],
   "source": [
    "joint_idx = np.array([root.joint(i).id for i in range(root.njnt)])[1:]\n",
    "end_eff = [\n",
    "'claw_T1_left',\n",
    "'claw_T1_right',\n",
    "'claw_T2_left',\n",
    "'claw_T2_right',\n",
    "'claw_T3_left',\n",
    "'claw_T3_right',\n",
    "]\n",
    "endeff_idxs = jp.array(\n",
    "    [\n",
    "        mujoco.mj_name2id(root, mujoco.mju_str2Type(\"body\"), body)\n",
    "        for body in end_eff\n",
    "    ]\n",
    ")"
   ]
  },
  {
   "cell_type": "code",
   "execution_count": 100,
   "metadata": {},
   "outputs": [],
   "source": [
    "model_path = (\"/home/eabe/Research/MyRepos/Brax-Rodent-Track/assets/fruitfly/fruitfly_fastviz.xml\")\n",
    "\n",
    "spec = mujoco.MjSpec()\n",
    "spec.from_file(model_path)\n",
    "thorax0 = spec.find_body(\"thorax\")\n",
    "mj_model = spec.compile()\n",
    "mj_model.opt.solver = {\n",
    "    \"cg\": mujoco.mjtSolver.mjSOL_CG,\n",
    "    \"newton\": mujoco.mjtSolver.mjSOL_NEWTON,\n",
    "}[\"cg\"]\n",
    "mj_model.opt.iterations = cfg.dataset.env_args.iterations\n",
    "mj_model.opt.ls_iterations = cfg.dataset.env_args.ls_iterations\n",
    "mj_model.opt.timestep = env.sys.mj_model.opt.timestep\n",
    "mj_data = mujoco.MjData(mj_model)\n",
    "\n",
    "scene_option = mujoco.MjvOption()\n",
    "scene_option.sitegroup[:] = [1, 1, 1, 1, 1, 0]\n",
    "\n",
    "# save rendering and log to wandb\n",
    "mujoco.mj_kinematics(mj_model, mj_data)\n",
    "# renderer = mujoco.Renderer(mj_model, height=512, width=512)\n",
    "qposes_rollout = mocap_qpos.reshape(581,1800,-1)[0,:500]\n",
    "qposes_rollout = qposes_rollout.at[:,2].set(.05)\n",
    "# qposes_rollout = qposes_rollout.at[:,3:7].set(0)\n",
    "frames = []\n",
    "# render while stepping using mujoco\n",
    "with mujoco.Renderer(mj_model, height=512, width=512) as renderer:\n",
    "    for qpos1 in qposes_rollout:\n",
    "        mj_data.qpos = qpos1\n",
    "        mujoco.mj_forward(mj_model, mj_data)\n",
    "        renderer.update_scene(mj_data, camera='track1', scene_option=scene_option)\n",
    "        pixels = renderer.render()\n",
    "        frames.append(pixels)"
   ]
  },
  {
   "cell_type": "code",
   "execution_count": null,
   "metadata": {},
   "outputs": [],
   "source": [
    "media.show_video(frames, fps=10)"
   ]
  },
  {
   "cell_type": "code",
   "execution_count": null,
   "metadata": {},
   "outputs": [],
   "source": [
    "t0 = kp_data[0,0,:,:]\n",
    "\n",
    "for n in range(7):\n",
    "    plt.plot(t0[0,fly_skel[n]],t0[1,fly_skel[n]])\n",
    "    plt.scatter(t0[0,fly_skel[n]],t0[1,fly_skel[n]])"
   ]
  },
  {
   "cell_type": "code",
   "execution_count": null,
   "metadata": {},
   "outputs": [],
   "source": [
    "for n in range(7):\n",
    "    plt.plot(kp_data[0,0,0,fly_skel[n,0]],kp_data[0,0,1,fly_skel[n,1]], '.')"
   ]
  },
  {
   "cell_type": "code",
   "execution_count": null,
   "metadata": {},
   "outputs": [],
   "source": []
  },
  {
   "cell_type": "markdown",
   "metadata": {},
   "source": [
    "# Amputation data"
   ]
  },
  {
   "cell_type": "code",
   "execution_count": 34,
   "metadata": {},
   "outputs": [],
   "source": [
    "import pandas as pd\n",
    "base_path = Path('/data/users/eabe/biomech_model/Flybody/datasets/Tuthill_data/')\n",
    "data_path = base_path / 'Amputation/09302024_fly2_0 R1C1_pose-3d.csv'\n",
    "df = pd.read_csv(data_path)"
   ]
  },
  {
   "cell_type": "code",
   "execution_count": null,
   "metadata": {},
   "outputs": [],
   "source": [
    "df.shape"
   ]
  },
  {
   "cell_type": "code",
   "execution_count": 36,
   "metadata": {},
   "outputs": [],
   "source": [
    "\n",
    "legs_data = ['R1', 'L2','R2', 'L3','R3']\n",
    "joints_data = ['A','B','C','D','E']\n",
    "coords_data = ['_x','_y','_z']\n",
    "joint_pos_columns = [leg + joint + coord \n",
    "                     for leg in legs_data\n",
    "                     for joint in joints_data \n",
    "                     for coord in coords_data]\n",
    "all_cols = (joint_pos_columns\n",
    "+['abdomen-tip_x',\n",
    "'abdomen-tip_y',\n",
    "'abdomen-tip_z',\n",
    "'stripe-3_x',\n",
    "'stripe-3_y',\n",
    "'stripe-3_z',\n",
    "'stripe-1_x',\n",
    "'stripe-1_y',\n",
    "'stripe-1_z',\n",
    "'thorax-abdomen_x',\n",
    "'thorax-abdomen_y',\n",
    "'thorax-abdomen_z',\n",
    "'head-thorax_x',\n",
    "'head-thorax_y',\n",
    "'head-thorax_z',])\n",
    "\n",
    "kp_data = df[all_cols].values.reshape(1500,-1, 3)"
   ]
  },
  {
   "cell_type": "code",
   "execution_count": null,
   "metadata": {},
   "outputs": [],
   "source": [
    "model_path = (\"/home/eabe/Research/MyRepos/Brax-Rodent-Track/assets/fruitfly/fruitfly_fastviz.xml\")\n",
    "spec = mujoco.MjSpec()\n",
    "spec = spec.from_file(model_path)\n",
    "mj_model = spec.compile()\n",
    "init_site_idx = mujoco.mj_name2id(mj_model, mujoco.mju_str2Type(\"site\"), \"tracking[coxa_T1_left]\"),\n",
    "data = mujoco.MjData(mj_model)\n",
    "mujoco.mj_forward(mj_model, data)\n",
    "# mj_model.find_body(\"thorax\").id\n",
    "# frame0 += site_pos[0, :]  # Body-coxa T1 left joint is the data origin.\n"
   ]
  },
  {
   "cell_type": "code",
   "execution_count": 47,
   "metadata": {},
   "outputs": [],
   "source": [
    "def transform_frame(frame):\n",
    "    \"\"\"Transform a single frame from data to model reference frame.\"\"\"\n",
    "    # Rotate around z-axis.\n",
    "    frame = frame[:, [1, 0, 2]]\n",
    "    frame[:, 1] *= -1\n",
    "    # Change units mm to cm.\n",
    "    # frame *= 0.1\n",
    "    return frame\n",
    "kp_transform = np.array([transform_frame(frame)+data.xpos[init_site_idx] for frame in kp_data])"
   ]
  },
  {
   "cell_type": "code",
   "execution_count": 48,
   "metadata": {},
   "outputs": [],
   "source": [
    "data_dict = {'kp_data':kp_data, 'kp_transform':kp_transform,\n",
    "             'kp_names':all_cols}"
   ]
  },
  {
   "cell_type": "code",
   "execution_count": null,
   "metadata": {},
   "outputs": [],
   "source": [
    "all_cols"
   ]
  },
  {
   "cell_type": "code",
   "execution_count": 49,
   "metadata": {},
   "outputs": [],
   "source": [
    "ioh5.save(base_path / 'Amputation/kp_data_amp.h5', data_dict)"
   ]
  },
  {
   "cell_type": "code",
   "execution_count": null,
   "metadata": {},
   "outputs": [],
   "source": [
    "kp_data.shape"
   ]
  },
  {
   "cell_type": "code",
   "execution_count": null,
   "metadata": {},
   "outputs": [],
   "source": [
    "len(joint_pos_columns)/3"
   ]
  },
  {
   "cell_type": "code",
   "execution_count": null,
   "metadata": {},
   "outputs": [],
   "source": [
    "'abdomen-tip_x',\n",
    "'abdomen-tip_y',\n",
    "'abdomen-tip_z',\n",
    "'stripe-3_x',\n",
    "'stripe-3_y',\n",
    "'stripe-3_z',\n",
    "'stripe-1_x',\n",
    "'stripe-1_y',\n",
    "'stripe-1_z',\n",
    "'thorax-abdomen_x',\n",
    "'thorax-abdomen_y',\n",
    "'thorax-abdomen_z',\n",
    "'head-thorax_x',\n",
    "'head-thorax_y',\n",
    "'head-thorax_z',\n",
    "'l-eye-t_x',\n",
    "'l-eye-t_y',\n",
    "'l-eye-t_z',\n",
    "'l-eye-b_x',\n",
    "'l-eye-b_y',\n",
    "'l-eye-b_z',\n",
    "'r-eye-t_x',\n",
    "'r-eye-t_y',\n",
    "'r-eye-t_z',\n",
    "'r-eye-b_x',\n",
    "'r-eye-b_y',\n",
    "'r-eye-b_z',"
   ]
  }
 ],
 "metadata": {
  "kernelspec": {
   "display_name": "stac-mjx-env",
   "language": "python",
   "name": "python3"
  },
  "language_info": {
   "codemirror_mode": {
    "name": "ipython",
    "version": 3
   },
   "file_extension": ".py",
   "mimetype": "text/x-python",
   "name": "python",
   "nbconvert_exporter": "python",
   "pygments_lexer": "ipython3",
   "version": "3.11.9"
  }
 },
 "nbformat": 4,
 "nbformat_minor": 2
}
