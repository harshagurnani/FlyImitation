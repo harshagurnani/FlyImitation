{
 "cells": [
  {
   "cell_type": "code",
   "execution_count": 1,
   "metadata": {},
   "outputs": [],
   "source": [
    "import hydra\n",
    "import os\n",
    "from omegaconf import DictConfig, OmegaConf"
   ]
  },
  {
   "cell_type": "code",
   "execution_count": 2,
   "metadata": {},
   "outputs": [],
   "source": [
    "from hydra import initialize, compose\n",
    "from hydra.core.hydra_config import HydraConfig\n",
    "from hydra.core.global_hydra import GlobalHydra"
   ]
  },
  {
   "cell_type": "code",
   "execution_count": 3,
   "metadata": {},
   "outputs": [],
   "source": [
    "OmegaConf.register_new_resolver('eq', lambda x, y: x.lower()==y.lower())\n",
    "OmegaConf.register_new_resolver('contains', lambda x, y: x.lower() in y.lower())\n",
    "OmegaConf.register_new_resolver('if_multi', lambda pred, a, b: a if pred.name=='MULTIRUN' else b)\n",
    "OmegaConf.register_new_resolver('resolve_default', lambda default, arg: default if arg=='' else arg)"
   ]
  },
  {
   "cell_type": "code",
   "execution_count": 6,
   "metadata": {},
   "outputs": [],
   "source": [
    "dataset = \"multiclip\"\n",
    "cpath = \"harsha_m1\"\n",
    "run_id = \"0\"\n",
    "train = \"train_fly_multiclip_feco_v3\"\n",
    "with initialize(version_base=None, config_path=\"configs\"):\n",
    "    cfg_temp = compose(config_name='config.yaml', \n",
    "                       overrides=[f\"dataset=fly_{dataset}\", f\"train={train}\", f\"paths={cpath}\"], \n",
    "                       return_hydra_config=True)\n",
    "    HydraConfig.instance().set_config(cfg_temp)\n",
    "    cfg = OmegaConf.to_container(cfg_temp, resolve=True)\n",
    "    cfg = OmegaConf.create(cfg)\n",
    "    "
   ]
  },
  {
   "cell_type": "code",
   "execution_count": 14,
   "metadata": {},
   "outputs": [
    {
     "data": {
      "text/plain": [
       "{'sensorynet': {'name': 'snet_feco_pop_coding', 'sensory_neurons': 20, 'random_feco_bias': False, 'std_scale': 0.75, 'activation': 'relu', 'activation_hook': 'tanh', 'activation_claw': 'gaussian', 'invert_claw': True, 'hook_bias_scale': 0.8, 'claw_bias_scale': 1.0, 'hook_bias_range': [-1.0, 3.0], 'claw_bias_range': [-1.0, 3.0]}, 'name': 'train_fly_multiclip_feco_v3', 'version': 'sensory_v4', 'gpu': 0, 'wandb_project': 'sensory_newact', 'env_name': 'fly_freejnt_multiclip', 'algo_name': 'ppo', 'task_name': 'fly_multiclip', 'note': 'separate intention and sensory networks', 'num_envs': 2048, 'num_timesteps': 10000000000, 'eval_every': 10000000, 'num_resets_per_eval': 1, 'reward_scaling': 1, 'episode_length': 1001, 'normalize_observations': True, 'action_repeat': 1, 'clipping_epsilon': 0.2, 'unroll_length': 20, 'num_minibatches': 32, 'num_updates_per_batch': 8, 'discounting': 0.95, 'learning_rate': 2e-05, 'kl_weight': 0.1, 'kl_loss': True, 'entropy_cost': 0.01, 'batch_size': 2048, 'seed': 0, 'network_type': 'separatefeco', 'separate_sensing': True, 'encoder_hidden_layer_sizes': [256, 256], 'decoder_hidden_layer_sizes': [256, 256], 'value_hidden_layer_sizes': [256, 256], 'sensory_hidden_layer_sizes': [0], 'ckpt_net': {'encoder_hidden_layer_sizes': [256, 256], 'decoder_hidden_layer_sizes': [256, 256], 'value_hidden_layer_sizes': [256, 256], 'sensory_hidden_layer_sizes': [0], 'sensory_neurons': 2, 'std_scale': 0.75}, 'restore_checkpoint': '', 'freeze_decoder': False, 'freeze_sensory': True, 'state_metric_list': ['pos_reward', 'quat_reward', 'joint_reward', 'angvel_reward', 'bodypos_reward', 'endeff_reward', 'reward_ctrlcost', 'too_far', 'bad_pose', 'bad_quat', 'termination', 'fall'], 'info_metric_list': ['cur_frame', 'summed_pos_distance', 'quat_distance', 'joint_distance', 'angvel_distance', 'bodypos_distance', 'endeff_distance']}"
      ]
     },
     "execution_count": 14,
     "metadata": {},
     "output_type": "execute_result"
    }
   ],
   "source": [
    "cfg.train"
   ]
  },
  {
   "cell_type": "code",
   "execution_count": null,
   "metadata": {},
   "outputs": [],
   "source": []
  }
 ],
 "metadata": {
  "kernelspec": {
   "display_name": "bci",
   "language": "python",
   "name": "python3"
  },
  "language_info": {
   "codemirror_mode": {
    "name": "ipython",
    "version": 3
   },
   "file_extension": ".py",
   "mimetype": "text/x-python",
   "name": "python",
   "nbconvert_exporter": "python",
   "pygments_lexer": "ipython3",
   "version": "3.10.14"
  }
 },
 "nbformat": 4,
 "nbformat_minor": 2
}
