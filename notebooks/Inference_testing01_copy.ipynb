{
 "cells": [
  {
   "cell_type": "markdown",
   "metadata": {},
   "source": [
    "# Imports set up rendering"
   ]
  },
  {
   "cell_type": "code",
   "execution_count": 1,
   "metadata": {},
   "outputs": [
    {
     "name": "stdout",
     "output_type": "stream",
     "text": [
      "Mon Nov  4 12:24:10 2024       \n",
      "+-----------------------------------------------------------------------------------------+\n",
      "| NVIDIA-SMI 550.107.02             Driver Version: 550.107.02     CUDA Version: 12.4     |\n",
      "|-----------------------------------------+------------------------+----------------------+\n",
      "| GPU  Name                 Persistence-M | Bus-Id          Disp.A | Volatile Uncorr. ECC |\n",
      "| Fan  Temp   Perf          Pwr:Usage/Cap |           Memory-Usage | GPU-Util  Compute M. |\n",
      "|                                         |                        |               MIG M. |\n",
      "|=========================================+========================+======================|\n",
      "|   0  NVIDIA RTX A6000               On  |   00000000:41:00.0 Off |                  Off |\n",
      "| 30%   38C    P5             45W /  300W |      11MiB /  49140MiB |      0%      Default |\n",
      "|                                         |                        |                  N/A |\n",
      "+-----------------------------------------+------------------------+----------------------+\n",
      "|   1  NVIDIA RTX A6000               On  |   00000000:61:00.0 Off |                  Off |\n",
      "| 30%   34C    P8             25W /  300W |     135MiB /  49140MiB |      0%      Default |\n",
      "|                                         |                        |                  N/A |\n",
      "+-----------------------------------------+------------------------+----------------------+\n",
      "                                                                                         \n",
      "+-----------------------------------------------------------------------------------------+\n",
      "| Processes:                                                                              |\n",
      "|  GPU   GI   CI        PID   Type   Process name                              GPU Memory |\n",
      "|        ID   ID                                                               Usage      |\n",
      "|=========================================================================================|\n",
      "|    0   N/A  N/A   3931791      G   /usr/lib/xorg/Xorg                              4MiB |\n",
      "|    1   N/A  N/A   3931791      G   /usr/lib/xorg/Xorg                            117MiB |\n",
      "|    1   N/A  N/A   3932046      G   /usr/bin/gnome-shell                            9MiB |\n",
      "+-----------------------------------------------------------------------------------------+\n",
      "Setting environment variable to use GPU rendering:\n",
      "Checking that the installation succeeded:\n",
      "Installation successful.\n"
     ]
    }
   ],
   "source": [
    "#@title Check if MuJoCo installation was successful\n",
    "\n",
    "import distutils.util\n",
    "import os\n",
    "import subprocess\n",
    "if subprocess.run('nvidia-smi').returncode:\n",
    "  raise RuntimeError(\n",
    "      'Cannot communicate with GPU. '\n",
    "      'Make sure you are using a GPU Colab runtime. '\n",
    "      'Go to the Runtime menu and select Choose runtime type.')\n",
    "\n",
    "# Add an ICD config so that glvnd can pick up the Nvidia EGL driver.\n",
    "# This is usually installed as part of an Nvidia driver package, but the Colab\n",
    "# kernel doesn't install its driver via APT, and as a result the ICD is missing.\n",
    "# (https://github.com/NVIDIA/libglvnd/blob/master/src/EGL/icd_enumeration.md)\n",
    "NVIDIA_ICD_CONFIG_PATH = '/usr/share/glvnd/egl_vendor.d/10_nvidia.json'\n",
    "if not os.path.exists(NVIDIA_ICD_CONFIG_PATH):\n",
    "  with open(NVIDIA_ICD_CONFIG_PATH, 'w') as f:\n",
    "    f.write(\"\"\"{\n",
    "    \"file_format_version\" : \"1.0.0\",\n",
    "    \"ICD\" : {\n",
    "        \"library_path\" : \"libEGL_nvidia.so.0\"\n",
    "    }\n",
    "}\n",
    "\"\"\")\n",
    "\n",
    "# Configure MuJoCo to use the EGL rendering backend (requires GPU)\n",
    "print('Setting environment variable to use GPU rendering:')\n",
    "# %env MUJOCO_GL=egl\n",
    "os.environ['MUJOCO_GL'] = 'egl'\n",
    "os.environ['PYOPENGL_PLATFORM'] = 'egl'\n",
    "try:\n",
    "  print('Checking that the installation succeeded:')\n",
    "  import mujoco\n",
    "  mujoco.MjModel.from_xml_string('<mujoco/>')\n",
    "except Exception as e:\n",
    "  raise e from RuntimeError(\n",
    "      'Something went wrong during installation. Check the shell output above '\n",
    "      'for more information.\\n'\n",
    "      'If using a hosted Colab runtime, make sure you enable GPU acceleration '\n",
    "      'by going to the Runtime menu and selecting \"Choose runtime type\".')\n",
    "\n",
    "print('Installation successful.')\n",
    "\n",
    "# Tell XLA to use Triton GEMM, this improves steps/sec by ~30% on some GPUs\n",
    "os.environ[\"XLA_FLAGS\"] = (\n",
    "    \"--xla_gpu_enable_triton_softmax_fusion=true \"\n",
    "    \"--xla_gpu_triton_gemm_any=True \"\n",
    "    # \"--xla_gpu_enable_async_collectives=true \"\n",
    "    # \"--xla_gpu_enable_latency_hiding_scheduler=true \"\n",
    "    # \"--xla_gpu_enable_highest_priority_async_stream=true \"\n",
    ")\n",
    "# os.environ['CUDA_VISIBLE_DEVICES'] = '0' # Use GPU 1\n",
    "os.environ[\"XLA_FLAGS\"] = (\n",
    "    \"--xla_gpu_enable_triton_softmax_fusion=true \" \"--xla_gpu_triton_gemm_any=True \"\n",
    ")"
   ]
  },
  {
   "cell_type": "code",
   "execution_count": 2,
   "metadata": {},
   "outputs": [
    {
     "name": "stdout",
     "output_type": "stream",
     "text": [
      "Using 2 GPUs\n"
     ]
    }
   ],
   "source": [
    "%load_ext autoreload\n",
    "%autoreload 2\n",
    "import os\n",
    "\n",
    "os.environ[\"XLA_PYTHON_CLIENT_MEM_FRACTION\"] = \"0.95\"\n",
    "#os.environ[\"CUDA_VISIBLE_DEVICES\"] = \"1\"  # Use GPU 1\n",
    "import functools\n",
    "import jax\n",
    "# jax.config.update(\"jax_enable_x64\", True)\n",
    "\n",
    "n_gpus = jax.device_count(backend=\"gpu\")\n",
    "print(f\"Using {n_gpus} GPUs\")\n",
    "from typing import Dict\n",
    "from brax import envs\n",
    "import mujoco\n",
    "import pickle\n",
    "import warnings\n",
    "import mediapy as media\n",
    "import hydra\n",
    "import jax.numpy as jp\n",
    "\n",
    "from omegaconf import DictConfig, OmegaConf\n",
    "from brax.training.agents.ppo import networks as ppo_networks\n",
    "from custom_brax import custom_ppo as ppo\n",
    "from custom_brax import custom_wrappers\n",
    "from custom_brax import custom_ppo_networks\n",
    "from orbax import checkpoint as ocp\n",
    "from flax.training import orbax_utils\n",
    "from preprocessing.mjx_preprocess import process_clip_to_train\n",
    "from envs.Fly_Env_Brax import FlyTracking, FlyMultiClipTracking\n",
    "from utils.utils import *\n",
    "from utils.fly_logging import log_eval_rollout\n",
    "\n",
    "warnings.filterwarnings(\"ignore\", category=DeprecationWarning)\n",
    "# jax.config.update(\"jax_enable_x64\", True)\n",
    "\n",
    "from hydra import initialize, compose\n",
    "from hydra.core.hydra_config import HydraConfig\n",
    "from hydra.core.global_hydra import GlobalHydra\n"
   ]
  },
  {
   "cell_type": "markdown",
   "metadata": {},
   "source": [
    "# Load configs"
   ]
  },
  {
   "cell_type": "code",
   "execution_count": 3,
   "metadata": {},
   "outputs": [
    {
     "name": "stdout",
     "output_type": "stream",
     "text": [
      "0 /data/users/hg84/biomech_model/Flybody/RL_Flybody/ckpt/run_id=21751503/logs/run_config.yaml\n"
     ]
    }
   ],
   "source": [
    "base_dir ='/data/users/hg84/biomech_model/Flybody/RL_Flybody/ckpt'\n",
    "run_cfg_list = sorted(list(Path(base_dir).rglob('run_config.yaml')))\n",
    "for n, run_cfg in enumerate(run_cfg_list):\n",
    "    print(n, run_cfg)\n",
    "\n",
    "\n",
    "cfg_num = 0\n",
    "cfg = OmegaConf.load(run_cfg_list[cfg_num])\n",
    "run_id = int(run_cfg_list[cfg_num].parent.parent.stem.split('=')[1])"
   ]
  },
  {
   "cell_type": "code",
   "execution_count": 4,
   "metadata": {},
   "outputs": [],
   "source": [
    "dataset = \"multiclip\"\n",
    "with initialize(version_base=None, config_path=\"configs\"):\n",
    "    cfg_temp=compose(config_name='config.yaml',overrides= [f\"dataset=fly_{dataset}\", f\"train=train_fly_{dataset}\", \"paths=glados\", \"version=ckpt\", f'run_id={run_id}'],return_hydra_config=True,)\n",
    "    HydraConfig.instance().set_config(cfg_temp)\n",
    "    \n",
    "cfg.paths = cfg_temp.paths"
   ]
  },
  {
   "cell_type": "code",
   "execution_count": 5,
   "metadata": {},
   "outputs": [],
   "source": [
    "for k in cfg.paths.keys():\n",
    "    if (k != 'user'):\n",
    "        cfg.paths[k] = Path(cfg.paths[k])\n",
    "        #cfg.paths[k].mkdir(parents=True, exist_ok=True)\n",
    "env_cfg = cfg.dataset\n",
    "env_args = cfg.dataset.env_args\n",
    "\n",
    "cfg.paths.base_dir = cfg.paths.base_dir.parent / 'ckpt'\n",
    "reference_path = cfg.paths.data_dir/ f\"clips/all_clips_batch_interp.p\"\n",
    "# reference_path = cfg.paths.data_dir/ f\"clips/{cfg.dataset['clip_idx']}\"\n",
    "#reference_path.parent.mkdir(parents=True, exist_ok=True)\n",
    "\n",
    "with open(reference_path, \"rb\") as file:\n",
    "    # Use pickle.load() to load the data from the file\n",
    "    reference_clip = pickle.load(file)\n"
   ]
  },
  {
   "cell_type": "code",
   "execution_count": 6,
   "metadata": {},
   "outputs": [
    {
     "data": {
      "text/plain": [
       "{'user': 'hg84', 'cwd_dir': PosixPath('/home/hg84/Documents/Github/Brax-Tracking'), 'base_dir': PosixPath('/data/users/hg84/biomech_model/Flybody/RL_Flybody/ckpt'), 'save_dir': PosixPath('/data/users/hg84/biomech_model/Flybody/RL_Flybody/ckpt/run_id=21751503'), 'log_dir': PosixPath('/data/users/hg84/biomech_model/Flybody/RL_Flybody/ckpt/run_id=21751503/logs'), 'ckpt_dir': PosixPath('/data/users/hg84/biomech_model/Flybody/RL_Flybody/ckpt/run_id=21751503/ckpt'), 'fig_dir': PosixPath('/data/users/hg84/biomech_model/Flybody/RL_Flybody/ckpt/run_id=21751503/figures'), 'data_dir': PosixPath('/data/users/hg84/biomech_model/Flybody/datasets/Tuthill_data')}"
      ]
     },
     "execution_count": 6,
     "metadata": {},
     "output_type": "execute_result"
    }
   ],
   "source": [
    "cfg.paths"
   ]
  },
  {
   "cell_type": "markdown",
   "metadata": {},
   "source": [
    "# Load env"
   ]
  },
  {
   "cell_type": "code",
   "execution_count": 7,
   "metadata": {},
   "outputs": [
    {
     "name": "stdout",
     "output_type": "stream",
     "text": [
      "fly_freejnt_multiclip\n",
      "Loaded Model: /home/hg84/Documents/Github/Brax-Tracking/assets/fruitfly/fruitfly_force_fast.xml\n",
      "self._steps_for_cur_frame: 1.0\n"
     ]
    }
   ],
   "source": [
    "from envs.Fly_Env_Brax import FlyTracking, FlyMultiClipTracking, FlyRunSim, _bounded_quat_dist\n",
    "# dataset = 'multiclip'\n",
    "\n",
    "# with initialize(version_base=None, config_path=\"configs\"):\n",
    "#     cfg=compose(config_name='config.yaml',overrides= [f\"dataset=fly_{dataset}\", f\"train=train_fly_{dataset}\", \"paths=glados\"],return_hydra_config=True,)\n",
    "#     HydraConfig.instance().set_config(cfg)\n",
    "\n",
    "\n",
    "# env_args = cfg.dataset.env_args\n",
    "envs.register_environment(\"fly_freejnt_clip\", FlyTracking)\n",
    "envs.register_environment(\"fly_freejnt_multiclip\", FlyMultiClipTracking)\n",
    "envs.register_environment(\"fly_run_policy\", FlyRunSim)\n",
    "# cfg.dataset.env_args.mjcf_path = '/home/eabe/Research/MyRepos/Brax-Rodent-Track/assets/fruitfly/fruitfly_viz_only.xml'\n",
    "print(cfg.train.env_name)\n",
    "env = envs.get_environment(\n",
    "    cfg.train.env_name,\n",
    "    reference_clip=reference_clip,\n",
    "    **cfg.dataset.env_args,\n",
    ")"
   ]
  },
  {
   "cell_type": "code",
   "execution_count": null,
   "metadata": {},
   "outputs": [],
   "source": []
  },
  {
   "cell_type": "code",
   "execution_count": 8,
   "metadata": {},
   "outputs": [],
   "source": [
    "dataset = \"multiclip\"\n",
    "with initialize(version_base=None, config_path=\"configs\"):\n",
    "    cfg=compose(config_name='config.yaml',overrides= [f\"dataset=fly_{dataset}\", f\"train=train_fly_{dataset}\", \"paths=glados\"],return_hydra_config=True,)\n",
    "    HydraConfig.instance().set_config(cfg)\n",
    "    \n",
    "for k in cfg.paths.keys():\n",
    "    if (k != 'user'):\n",
    "        cfg.paths[k] = Path(cfg.paths[k])\n",
    "        cfg.paths[k].mkdir(parents=True, exist_ok=True)\n",
    "env_cfg = cfg.dataset\n",
    "env_args = cfg.dataset.env_args\n",
    "reference_path = cfg.paths.data_dir/ f\"clips/all_clips_batch_interp.p\"\n",
    "# reference_path = cfg.paths.data_dir/ f\"clips/0.p\"\n",
    "reference_path.parent.mkdir(parents=True, exist_ok=True)\n",
    "\n",
    "with open(reference_path, \"rb\") as file:\n",
    "    # Use pickle.load() to load the data from the file\n",
    "    reference_clip = pickle.load(file)\n"
   ]
  },
  {
   "cell_type": "code",
   "execution_count": 9,
   "metadata": {},
   "outputs": [
    {
     "name": "stdout",
     "output_type": "stream",
     "text": [
      "fly_freejnt_multiclip\n",
      "Loaded Model: /home/hg84/Documents/Github/Brax-Tracking//assets/fruitfly/fruitfly_force_fast.xml\n",
      "self._steps_for_cur_frame: 1.0\n"
     ]
    }
   ],
   "source": [
    "dataset = 'multiclip'\n",
    "\n",
    "from envs.Fly_Env_Brax import FlyTracking, FlyMultiClipTracking, FlyRunSim, _bounded_quat_dist\n",
    "with initialize(version_base=None, config_path=\"configs\"):\n",
    "    cfg=compose(config_name='config.yaml',overrides= [f\"dataset=fly_{dataset}\", f\"train=train_fly_{dataset}\", \"paths=glados\"],return_hydra_config=True,)\n",
    "    HydraConfig.instance().set_config(cfg)\n",
    "    \n",
    "\n",
    "env_args = cfg.dataset.env_args\n",
    "print(cfg.train.env_name)\n",
    "envs.register_environment(\"fly_freejnt_clip\", FlyTracking)\n",
    "envs.register_environment(\"fly_freejnt_multiclip\", FlyMultiClipTracking)\n",
    "envs.register_environment(\"fly_run_policy\", FlyRunSim)\n",
    "# cfg_load = OmegaConf.load('/data/users/eabe/biomech_model/Flybody/RL_Flybody/ckpt/run_id=21377073//logs/run_config.yaml')\n",
    "# cfg_load = OmegaConf.load('/data/users/eabe/biomech_model/Flybody/RL_Flybody/ckpt/run_id=21356039/logs/run_config.yaml')\n",
    "cfg_load = OmegaConf.load('/data/users/hg84/biomech_model/Flybody/RL_Flybody/ckpt/run_id=21751503/logs/run_config.yaml')\n",
    "cfg_load.paths = cfg.paths\n",
    "env = envs.get_environment(\n",
    "    cfg.train.env_name,\n",
    "    reference_clip=reference_clip,\n",
    "    **cfg.dataset.env_args,\n",
    ")"
   ]
  },
  {
   "cell_type": "code",
   "execution_count": 10,
   "metadata": {},
   "outputs": [],
   "source": [
    "rollout_env = custom_wrappers.RenderRolloutWrapperTracking(env)\n",
    "    \n",
    "# rollout_env = custom_wrappers.RenderRolloutWrapperTracking(env)\n",
    "# define the jit reset/step functions\n",
    "jit_reset = jax.jit(rollout_env.reset)\n",
    "jit_step = jax.jit(rollout_env.step)\n",
    "state = jit_reset(jax.random.PRNGKey(0))\n"
   ]
  },
  {
   "cell_type": "markdown",
   "metadata": {},
   "source": [
    "# Test inference"
   ]
  },
  {
   "cell_type": "code",
   "execution_count": 11,
   "metadata": {},
   "outputs": [],
   "source": [
    "from orbax import checkpoint as ocp\n",
    "from flax.training import orbax_utils\n",
    "import optax"
   ]
  },
  {
   "cell_type": "code",
   "execution_count": 12,
   "metadata": {},
   "outputs": [
    {
     "name": "stdout",
     "output_type": "stream",
     "text": [
      "/data/users/hg84/biomech_model/Flybody/RL_Flybody/ckpt/run_id=21751503/ckpt/21751503/010\n"
     ]
    }
   ],
   "source": [
    "# model_path = Path('/data/users/eabe/biomech_model/Flybody/RL_Flybody/ckpt/run_id=21390629/ckpt/21390629')\n",
    "# model_path = Path('/data/users/eabe/biomech_model/Flybody/RL_Flybody/ckpt/run_id=21377073/ckpt/21377073')\n",
    "# model_path = Path('/data/users/eabe/biomech_model/Flybody/RL_Flybody/ckpt/run_id=21356039/ckpt/21356039')\n",
    "model_path = Path('/data/users/hg84/biomech_model/Flybody/RL_Flybody/ckpt/run_id=21751503/ckpt/21751503')\n",
    "# model_path = Path(cfg.paths.ckpt_dir/f\"{run_id}\")\n",
    "##### Get all the checkpoint files #####\n",
    "ckpt_files = sorted([Path(f.path) for f in os.scandir(model_path) if f.is_dir()])\n",
    "max_ckpt = ckpt_files[-1].as_posix()\n",
    "env_args = cfg.dataset.env_args\n",
    "print(max_ckpt)"
   ]
  },
  {
   "cell_type": "code",
   "execution_count": 13,
   "metadata": {},
   "outputs": [
    {
     "name": "stdout",
     "output_type": "stream",
     "text": [
      "episode_length 946.0\n"
     ]
    },
    {
     "ename": "ValueError",
     "evalue": "Dict key mismatch; expected keys: ['decoder', 'encoder', 'latent']; dict: {'decoder': {'LayerNorm_0': {'bias': ArrayRestoreArgs(restore_type=<class 'jax.Array'>, dtype=dtype('float32'), mesh=None, mesh_axes=None, sharding=SingleDeviceSharding(device=CudaDevice(id=0), memory_kind=device), global_shape=None), 'scale': ArrayRestoreArgs(restore_type=<class 'jax.Array'>, dtype=dtype('float32'), mesh=None, mesh_axes=None, sharding=SingleDeviceSharding(device=CudaDevice(id=0), memory_kind=device), global_shape=None)}, 'LayerNorm_1': {'bias': ArrayRestoreArgs(restore_type=<class 'jax.Array'>, dtype=dtype('float32'), mesh=None, mesh_axes=None, sharding=SingleDeviceSharding(device=CudaDevice(id=0), memory_kind=device), global_shape=None), 'scale': ArrayRestoreArgs(restore_type=<class 'jax.Array'>, dtype=dtype('float32'), mesh=None, mesh_axes=None, sharding=SingleDeviceSharding(device=CudaDevice(id=0), memory_kind=device), global_shape=None)}, 'hidden_0': {'bias': ArrayRestoreArgs(restore_type=<class 'jax.Array'>, dtype=dtype('float32'), mesh=None, mesh_axes=None, sharding=SingleDeviceSharding(device=CudaDevice(id=0), memory_kind=device), global_shape=None), 'kernel': ArrayRestoreArgs(restore_type=<class 'jax.Array'>, dtype=dtype('float32'), mesh=None, mesh_axes=None, sharding=SingleDeviceSharding(device=CudaDevice(id=0), memory_kind=device), global_shape=None)}, 'hidden_1': {'bias': ArrayRestoreArgs(restore_type=<class 'jax.Array'>, dtype=dtype('float32'), mesh=None, mesh_axes=None, sharding=SingleDeviceSharding(device=CudaDevice(id=0), memory_kind=device), global_shape=None), 'kernel': ArrayRestoreArgs(restore_type=<class 'jax.Array'>, dtype=dtype('float32'), mesh=None, mesh_axes=None, sharding=SingleDeviceSharding(device=CudaDevice(id=0), memory_kind=device), global_shape=None)}, 'hidden_2': {'bias': ArrayRestoreArgs(restore_type=<class 'jax.Array'>, dtype=dtype('float32'), mesh=None, mesh_axes=None, sharding=SingleDeviceSharding(device=CudaDevice(id=0), memory_kind=device), global_shape=None), 'kernel': ArrayRestoreArgs(restore_type=<class 'jax.Array'>, dtype=dtype('float32'), mesh=None, mesh_axes=None, sharding=SingleDeviceSharding(device=CudaDevice(id=0), memory_kind=device), global_shape=None)}}, 'encoder': {'LayerNorm_0': {'bias': ArrayRestoreArgs(restore_type=<class 'jax.Array'>, dtype=dtype('float32'), mesh=None, mesh_axes=None, sharding=SingleDeviceSharding(device=CudaDevice(id=0), memory_kind=device), global_shape=None), 'scale': ArrayRestoreArgs(restore_type=<class 'jax.Array'>, dtype=dtype('float32'), mesh=None, mesh_axes=None, sharding=SingleDeviceSharding(device=CudaDevice(id=0), memory_kind=device), global_shape=None)}, 'LayerNorm_1': {'bias': ArrayRestoreArgs(restore_type=<class 'jax.Array'>, dtype=dtype('float32'), mesh=None, mesh_axes=None, sharding=SingleDeviceSharding(device=CudaDevice(id=0), memory_kind=device), global_shape=None), 'scale': ArrayRestoreArgs(restore_type=<class 'jax.Array'>, dtype=dtype('float32'), mesh=None, mesh_axes=None, sharding=SingleDeviceSharding(device=CudaDevice(id=0), memory_kind=device), global_shape=None)}, 'fc2_logvar': {'bias': ArrayRestoreArgs(restore_type=<class 'jax.Array'>, dtype=dtype('float32'), mesh=None, mesh_axes=None, sharding=SingleDeviceSharding(device=CudaDevice(id=0), memory_kind=device), global_shape=None), 'kernel': ArrayRestoreArgs(restore_type=<class 'jax.Array'>, dtype=dtype('float32'), mesh=None, mesh_axes=None, sharding=SingleDeviceSharding(device=CudaDevice(id=0), memory_kind=device), global_shape=None)}, 'fc2_mean': {'bias': ArrayRestoreArgs(restore_type=<class 'jax.Array'>, dtype=dtype('float32'), mesh=None, mesh_axes=None, sharding=SingleDeviceSharding(device=CudaDevice(id=0), memory_kind=device), global_shape=None), 'kernel': ArrayRestoreArgs(restore_type=<class 'jax.Array'>, dtype=dtype('float32'), mesh=None, mesh_axes=None, sharding=SingleDeviceSharding(device=CudaDevice(id=0), memory_kind=device), global_shape=None)}, 'hidden_0': {'bias': ArrayRestoreArgs(restore_type=<class 'jax.Array'>, dtype=dtype('float32'), mesh=None, mesh_axes=None, sharding=SingleDeviceSharding(device=CudaDevice(id=0), memory_kind=device), global_shape=None), 'kernel': ArrayRestoreArgs(restore_type=<class 'jax.Array'>, dtype=dtype('float32'), mesh=None, mesh_axes=None, sharding=SingleDeviceSharding(device=CudaDevice(id=0), memory_kind=device), global_shape=None)}, 'hidden_1': {'bias': ArrayRestoreArgs(restore_type=<class 'jax.Array'>, dtype=dtype('float32'), mesh=None, mesh_axes=None, sharding=SingleDeviceSharding(device=CudaDevice(id=0), memory_kind=device), global_shape=None), 'kernel': ArrayRestoreArgs(restore_type=<class 'jax.Array'>, dtype=dtype('float32'), mesh=None, mesh_axes=None, sharding=SingleDeviceSharding(device=CudaDevice(id=0), memory_kind=device), global_shape=None)}}}.",
     "output_type": "error",
     "traceback": [
      "\u001b[0;31m---------------------------------------------------------------------------\u001b[0m",
      "\u001b[0;31mValueError\u001b[0m                                Traceback (most recent call last)",
      "Cell \u001b[0;32mIn[13], line 41\u001b[0m\n\u001b[1;32m     10\u001b[0m \u001b[38;5;28mprint\u001b[39m(\u001b[38;5;124mf\u001b[39m\u001b[38;5;124m\"\u001b[39m\u001b[38;5;124mepisode_length \u001b[39m\u001b[38;5;132;01m{\u001b[39;00mepisode_length\u001b[38;5;132;01m}\u001b[39;00m\u001b[38;5;124m\"\u001b[39m)\n\u001b[1;32m     12\u001b[0m train_fn \u001b[38;5;241m=\u001b[39m functools\u001b[38;5;241m.\u001b[39mpartial(\n\u001b[1;32m     13\u001b[0m             ppo\u001b[38;5;241m.\u001b[39mtrain,\n\u001b[1;32m     14\u001b[0m             num_envs\u001b[38;5;241m=\u001b[39mcfg\u001b[38;5;241m.\u001b[39mtrain[\u001b[38;5;124m\"\u001b[39m\u001b[38;5;124mnum_envs\u001b[39m\u001b[38;5;124m\"\u001b[39m],\n\u001b[0;32m   (...)\u001b[0m\n\u001b[1;32m     38\u001b[0m             restore_checkpoint_path\u001b[38;5;241m=\u001b[39mmax_ckpt,\n\u001b[1;32m     39\u001b[0m         )\n\u001b[0;32m---> 41\u001b[0m make_inference_fn, params, _\u001b[38;5;241m=\u001b[39m \u001b[43mtrain_fn\u001b[49m\u001b[43m(\u001b[49m\u001b[43menvironment\u001b[49m\u001b[38;5;241;43m=\u001b[39;49m\u001b[43menv\u001b[49m\u001b[43m,\u001b[49m\u001b[43m)\u001b[49m\n\u001b[1;32m     42\u001b[0m params2 \u001b[38;5;241m=\u001b[39m (params[\u001b[38;5;241m0\u001b[39m],params[\u001b[38;5;241m1\u001b[39m]\u001b[38;5;241m.\u001b[39mpolicy)\n\u001b[1;32m     43\u001b[0m policy_params \u001b[38;5;241m=\u001b[39m (params[\u001b[38;5;241m0\u001b[39m],params[\u001b[38;5;241m1\u001b[39m]\u001b[38;5;241m.\u001b[39mpolicy)\n",
      "File \u001b[0;32m~/Documents/Github/Brax-Tracking/custom_brax/custom_ppo.py:444\u001b[0m, in \u001b[0;36mtrain\u001b[0;34m(environment, num_timesteps, episode_length, action_repeat, num_envs, max_devices_per_host, num_eval_envs, learning_rate, entropy_cost, kl_weight, discounting, seed, unroll_length, batch_size, num_minibatches, num_updates_per_batch, num_evals, num_resets_per_eval, normalize_observations, reward_scaling, clipping_epsilon, gae_lambda, deterministic_eval, network_factory, progress_fn, normalize_advantage, eval_env, policy_params_fn, randomization_fn, freeze_fn, restore_checkpoint_path)\u001b[0m\n\u001b[1;32m    442\u001b[0m orbax_checkpointer \u001b[38;5;241m=\u001b[39m ocp\u001b[38;5;241m.\u001b[39mPyTreeCheckpointer()\n\u001b[1;32m    443\u001b[0m target \u001b[38;5;241m=\u001b[39m training_state\u001b[38;5;241m.\u001b[39mnormalizer_params, init_params, training_state\u001b[38;5;241m.\u001b[39menv_steps\n\u001b[0;32m--> 444\u001b[0m (normalizer_params, load_params, env_steps) \u001b[38;5;241m=\u001b[39m \u001b[43morbax_checkpointer\u001b[49m\u001b[38;5;241;43m.\u001b[39;49m\u001b[43mrestore\u001b[49m\u001b[43m(\u001b[49m\n\u001b[1;32m    445\u001b[0m \u001b[43m    \u001b[49m\u001b[43mrestore_checkpoint_path\u001b[49m\u001b[43m,\u001b[49m\u001b[43m \u001b[49m\u001b[43mitem\u001b[49m\u001b[38;5;241;43m=\u001b[39;49m\u001b[43mtarget\u001b[49m\u001b[43m,\u001b[49m\u001b[43m \u001b[49m\u001b[43mrestore_args\u001b[49m\u001b[38;5;241;43m=\u001b[39;49m\u001b[43mflax\u001b[49m\u001b[38;5;241;43m.\u001b[39;49m\u001b[43mtraining\u001b[49m\u001b[38;5;241;43m.\u001b[39;49m\u001b[43morbax_utils\u001b[49m\u001b[38;5;241;43m.\u001b[39;49m\u001b[43mrestore_args_from_target\u001b[49m\u001b[43m(\u001b[49m\u001b[43mtarget\u001b[49m\u001b[43m,\u001b[49m\u001b[43m \u001b[49m\u001b[43mmesh\u001b[49m\u001b[38;5;241;43m=\u001b[39;49m\u001b[38;5;28;43;01mNone\u001b[39;49;00m\u001b[43m)\u001b[49m\u001b[43m)\u001b[49m\n\u001b[1;32m    446\u001b[0m \u001b[38;5;28;01mif\u001b[39;00m freeze_fn \u001b[38;5;129;01mis\u001b[39;00m \u001b[38;5;129;01mnot\u001b[39;00m \u001b[38;5;28;01mNone\u001b[39;00m:\n\u001b[1;32m    447\u001b[0m     load_params\u001b[38;5;241m.\u001b[39mpolicy[\u001b[38;5;124m'\u001b[39m\u001b[38;5;124mparams\u001b[39m\u001b[38;5;124m'\u001b[39m][\u001b[38;5;124m'\u001b[39m\u001b[38;5;124mencoder\u001b[39m\u001b[38;5;124m'\u001b[39m] \u001b[38;5;241m=\u001b[39m init_params\u001b[38;5;241m.\u001b[39mpolicy[\u001b[38;5;124m'\u001b[39m\u001b[38;5;124mparams\u001b[39m\u001b[38;5;124m'\u001b[39m][\u001b[38;5;124m'\u001b[39m\u001b[38;5;124mencoder\u001b[39m\u001b[38;5;124m'\u001b[39m]\n",
      "File \u001b[0;32m~/miniconda3/envs/stac-mjx-env/lib/python3.11/site-packages/orbax/checkpoint/checkpointer.py:239\u001b[0m, in \u001b[0;36mCheckpointer.restore\u001b[0;34m(self, directory, *args, **kwargs)\u001b[0m\n\u001b[1;32m    237\u001b[0m logging\u001b[38;5;241m.\u001b[39minfo(\u001b[38;5;124m'\u001b[39m\u001b[38;5;124mRestoring checkpoint from \u001b[39m\u001b[38;5;132;01m%s\u001b[39;00m\u001b[38;5;124m.\u001b[39m\u001b[38;5;124m'\u001b[39m, directory)\n\u001b[1;32m    238\u001b[0m ckpt_args \u001b[38;5;241m=\u001b[39m construct_checkpoint_args(\u001b[38;5;28mself\u001b[39m\u001b[38;5;241m.\u001b[39m_handler, \u001b[38;5;28;01mFalse\u001b[39;00m, \u001b[38;5;241m*\u001b[39margs, \u001b[38;5;241m*\u001b[39m\u001b[38;5;241m*\u001b[39mkwargs)\n\u001b[0;32m--> 239\u001b[0m restored \u001b[38;5;241m=\u001b[39m \u001b[38;5;28;43mself\u001b[39;49m\u001b[38;5;241;43m.\u001b[39;49m\u001b[43m_handler\u001b[49m\u001b[38;5;241;43m.\u001b[39;49m\u001b[43mrestore\u001b[49m\u001b[43m(\u001b[49m\u001b[43mdirectory\u001b[49m\u001b[43m,\u001b[49m\u001b[43m \u001b[49m\u001b[43margs\u001b[49m\u001b[38;5;241;43m=\u001b[39;49m\u001b[43mckpt_args\u001b[49m\u001b[43m)\u001b[49m\n\u001b[1;32m    240\u001b[0m logging\u001b[38;5;241m.\u001b[39minfo(\u001b[38;5;124m'\u001b[39m\u001b[38;5;124mFinished restoring checkpoint from \u001b[39m\u001b[38;5;132;01m%s\u001b[39;00m\u001b[38;5;124m.\u001b[39m\u001b[38;5;124m'\u001b[39m, directory)\n\u001b[1;32m    241\u001b[0m multihost\u001b[38;5;241m.\u001b[39msync_global_processes(\n\u001b[1;32m    242\u001b[0m     multihost\u001b[38;5;241m.\u001b[39munique_barrier_key(\n\u001b[1;32m    243\u001b[0m         \u001b[38;5;124m'\u001b[39m\u001b[38;5;124mCheckpointer:restore\u001b[39m\u001b[38;5;124m'\u001b[39m,\n\u001b[0;32m   (...)\u001b[0m\n\u001b[1;32m    247\u001b[0m     processes\u001b[38;5;241m=\u001b[39m\u001b[38;5;28mself\u001b[39m\u001b[38;5;241m.\u001b[39m_active_processes,\n\u001b[1;32m    248\u001b[0m )\n",
      "File \u001b[0;32m~/miniconda3/envs/stac-mjx-env/lib/python3.11/site-packages/orbax/checkpoint/_src/handlers/pytree_checkpoint_handler.py:766\u001b[0m, in \u001b[0;36mPyTreeCheckpointHandler.restore\u001b[0;34m(self, directory, item, restore_args, transforms, transforms_default_to_original, legacy_transform_fn, args)\u001b[0m\n\u001b[1;32m    756\u001b[0m \u001b[38;5;28;01mif\u001b[39;00m (\n\u001b[1;32m    757\u001b[0m     (directory \u001b[38;5;241m/\u001b[39m PYTREE_METADATA_FILE)\u001b[38;5;241m.\u001b[39mexists()\n\u001b[1;32m    758\u001b[0m     \u001b[38;5;129;01mand\u001b[39;00m can_ignore_aggregate_file\n\u001b[1;32m    759\u001b[0m     \u001b[38;5;129;01mand\u001b[39;00m transforms \u001b[38;5;129;01mis\u001b[39;00m \u001b[38;5;28;01mNone\u001b[39;00m\n\u001b[1;32m    760\u001b[0m     \u001b[38;5;129;01mand\u001b[39;00m legacy_transform_fn \u001b[38;5;129;01mis\u001b[39;00m \u001b[38;5;28;01mNone\u001b[39;00m\n\u001b[1;32m    761\u001b[0m ):\n\u001b[1;32m    762\u001b[0m   args \u001b[38;5;241m=\u001b[39m BasePyTreeRestoreArgs(\n\u001b[1;32m    763\u001b[0m       item,\n\u001b[1;32m    764\u001b[0m       restore_args\u001b[38;5;241m=\u001b[39mrestore_args,\n\u001b[1;32m    765\u001b[0m   )\n\u001b[0;32m--> 766\u001b[0m   \u001b[38;5;28;01mreturn\u001b[39;00m \u001b[38;5;28;43mself\u001b[39;49m\u001b[38;5;241;43m.\u001b[39;49m\u001b[43m_handler_impl\u001b[49m\u001b[38;5;241;43m.\u001b[39;49m\u001b[43mrestore\u001b[49m\u001b[43m(\u001b[49m\u001b[43mdirectory\u001b[49m\u001b[43m,\u001b[49m\u001b[43m \u001b[49m\u001b[43margs\u001b[49m\u001b[38;5;241;43m=\u001b[39;49m\u001b[43margs\u001b[49m\u001b[43m)\u001b[49m\n\u001b[1;32m    768\u001b[0m logging\u001b[38;5;241m.\u001b[39mvlog(\u001b[38;5;241m1\u001b[39m, \u001b[38;5;124m'\u001b[39m\u001b[38;5;124mdirectory=\u001b[39m\u001b[38;5;132;01m%s\u001b[39;00m\u001b[38;5;124m, restore_args=\u001b[39m\u001b[38;5;132;01m%s\u001b[39;00m\u001b[38;5;124m'\u001b[39m, directory, restore_args)\n\u001b[1;32m    769\u001b[0m \u001b[38;5;28;01mif\u001b[39;00m \u001b[38;5;129;01mnot\u001b[39;00m directory\u001b[38;5;241m.\u001b[39mexists():\n",
      "File \u001b[0;32m~/miniconda3/envs/stac-mjx-env/lib/python3.11/site-packages/orbax/checkpoint/_src/handlers/base_pytree_checkpoint_handler.py:676\u001b[0m, in \u001b[0;36mBasePyTreeCheckpointHandler.restore\u001b[0;34m(self, directory, args)\u001b[0m\n\u001b[1;32m    669\u001b[0m   \u001b[38;5;28;01mraise\u001b[39;00m \u001b[38;5;167;01mValueError\u001b[39;00m(\u001b[38;5;124m'\u001b[39m\u001b[38;5;124mFound empty metadata.\u001b[39m\u001b[38;5;124m'\u001b[39m)\n\u001b[1;32m    670\u001b[0m param_infos \u001b[38;5;241m=\u001b[39m \u001b[38;5;28mself\u001b[39m\u001b[38;5;241m.\u001b[39m_get_param_infos(\n\u001b[1;32m    671\u001b[0m     metadata,\n\u001b[1;32m    672\u001b[0m     directory,\n\u001b[1;32m    673\u001b[0m     use_ocdbt\u001b[38;5;241m=\u001b[39mtype_handlers\u001b[38;5;241m.\u001b[39mis_ocdbt_checkpoint(directory),\n\u001b[1;32m    674\u001b[0m     use_zarr3\u001b[38;5;241m=\u001b[39muse_zarr3,\n\u001b[1;32m    675\u001b[0m )\n\u001b[0;32m--> 676\u001b[0m tree_memory_size, restored_item \u001b[38;5;241m=\u001b[39m \u001b[43masyncio_utils\u001b[49m\u001b[38;5;241;43m.\u001b[39;49m\u001b[43mrun_sync\u001b[49m\u001b[43m(\u001b[49m\n\u001b[1;32m    677\u001b[0m \u001b[43m    \u001b[49m\u001b[38;5;28;43mself\u001b[39;49m\u001b[38;5;241;43m.\u001b[39;49m\u001b[43m_maybe_deserialize\u001b[49m\u001b[43m(\u001b[49m\u001b[43mitem\u001b[49m\u001b[43m,\u001b[49m\u001b[43m \u001b[49m\u001b[43mmetadata\u001b[49m\u001b[43m,\u001b[49m\u001b[43m \u001b[49m\u001b[43mparam_infos\u001b[49m\u001b[43m,\u001b[49m\u001b[43m \u001b[49m\u001b[43mrestore_args\u001b[49m\u001b[43m)\u001b[49m\n\u001b[1;32m    678\u001b[0m \u001b[43m\u001b[49m\u001b[43m)\u001b[49m\n\u001b[1;32m    680\u001b[0m \u001b[38;5;28;01mif\u001b[39;00m logging\u001b[38;5;241m.\u001b[39mvlog_is_on(\u001b[38;5;241m1\u001b[39m):\n\u001b[1;32m    681\u001b[0m   logging\u001b[38;5;241m.\u001b[39mvlog(\u001b[38;5;241m1\u001b[39m, \u001b[38;5;124m'\u001b[39m\u001b[38;5;124mparam_infos: \u001b[39m\u001b[38;5;132;01m%s\u001b[39;00m\u001b[38;5;124m'\u001b[39m, param_infos)\n",
      "File \u001b[0;32m~/miniconda3/envs/stac-mjx-env/lib/python3.11/site-packages/orbax/checkpoint/_src/asyncio_utils.py:50\u001b[0m, in \u001b[0;36mrun_sync\u001b[0;34m(coro, enable_nest_asyncio)\u001b[0m\n\u001b[1;32m     48\u001b[0m \u001b[38;5;28;01mexcept\u001b[39;00m \u001b[38;5;167;01mRuntimeError\u001b[39;00m:\n\u001b[1;32m     49\u001b[0m   \u001b[38;5;28;01mpass\u001b[39;00m\n\u001b[0;32m---> 50\u001b[0m \u001b[38;5;28;01mreturn\u001b[39;00m \u001b[43masyncio\u001b[49m\u001b[38;5;241;43m.\u001b[39;49m\u001b[43mrun\u001b[49m\u001b[43m(\u001b[49m\u001b[43mcoro\u001b[49m\u001b[43m)\u001b[49m\n",
      "File \u001b[0;32m~/miniconda3/envs/stac-mjx-env/lib/python3.11/site-packages/nest_asyncio.py:30\u001b[0m, in \u001b[0;36m_patch_asyncio.<locals>.run\u001b[0;34m(main, debug)\u001b[0m\n\u001b[1;32m     28\u001b[0m task \u001b[38;5;241m=\u001b[39m asyncio\u001b[38;5;241m.\u001b[39mensure_future(main)\n\u001b[1;32m     29\u001b[0m \u001b[38;5;28;01mtry\u001b[39;00m:\n\u001b[0;32m---> 30\u001b[0m     \u001b[38;5;28;01mreturn\u001b[39;00m \u001b[43mloop\u001b[49m\u001b[38;5;241;43m.\u001b[39;49m\u001b[43mrun_until_complete\u001b[49m\u001b[43m(\u001b[49m\u001b[43mtask\u001b[49m\u001b[43m)\u001b[49m\n\u001b[1;32m     31\u001b[0m \u001b[38;5;28;01mfinally\u001b[39;00m:\n\u001b[1;32m     32\u001b[0m     \u001b[38;5;28;01mif\u001b[39;00m \u001b[38;5;129;01mnot\u001b[39;00m task\u001b[38;5;241m.\u001b[39mdone():\n",
      "File \u001b[0;32m~/miniconda3/envs/stac-mjx-env/lib/python3.11/site-packages/nest_asyncio.py:98\u001b[0m, in \u001b[0;36m_patch_loop.<locals>.run_until_complete\u001b[0;34m(self, future)\u001b[0m\n\u001b[1;32m     95\u001b[0m \u001b[38;5;28;01mif\u001b[39;00m \u001b[38;5;129;01mnot\u001b[39;00m f\u001b[38;5;241m.\u001b[39mdone():\n\u001b[1;32m     96\u001b[0m     \u001b[38;5;28;01mraise\u001b[39;00m \u001b[38;5;167;01mRuntimeError\u001b[39;00m(\n\u001b[1;32m     97\u001b[0m         \u001b[38;5;124m'\u001b[39m\u001b[38;5;124mEvent loop stopped before Future completed.\u001b[39m\u001b[38;5;124m'\u001b[39m)\n\u001b[0;32m---> 98\u001b[0m \u001b[38;5;28;01mreturn\u001b[39;00m \u001b[43mf\u001b[49m\u001b[38;5;241;43m.\u001b[39;49m\u001b[43mresult\u001b[49m\u001b[43m(\u001b[49m\u001b[43m)\u001b[49m\n",
      "File \u001b[0;32m~/miniconda3/envs/stac-mjx-env/lib/python3.11/asyncio/futures.py:203\u001b[0m, in \u001b[0;36mFuture.result\u001b[0;34m(self)\u001b[0m\n\u001b[1;32m    201\u001b[0m \u001b[38;5;28mself\u001b[39m\u001b[38;5;241m.\u001b[39m__log_traceback \u001b[38;5;241m=\u001b[39m \u001b[38;5;28;01mFalse\u001b[39;00m\n\u001b[1;32m    202\u001b[0m \u001b[38;5;28;01mif\u001b[39;00m \u001b[38;5;28mself\u001b[39m\u001b[38;5;241m.\u001b[39m_exception \u001b[38;5;129;01mis\u001b[39;00m \u001b[38;5;129;01mnot\u001b[39;00m \u001b[38;5;28;01mNone\u001b[39;00m:\n\u001b[0;32m--> 203\u001b[0m     \u001b[38;5;28;01mraise\u001b[39;00m \u001b[38;5;28mself\u001b[39m\u001b[38;5;241m.\u001b[39m_exception\u001b[38;5;241m.\u001b[39mwith_traceback(\u001b[38;5;28mself\u001b[39m\u001b[38;5;241m.\u001b[39m_exception_tb)\n\u001b[1;32m    204\u001b[0m \u001b[38;5;28;01mreturn\u001b[39;00m \u001b[38;5;28mself\u001b[39m\u001b[38;5;241m.\u001b[39m_result\n",
      "File \u001b[0;32m~/miniconda3/envs/stac-mjx-env/lib/python3.11/asyncio/tasks.py:277\u001b[0m, in \u001b[0;36mTask.__step\u001b[0;34m(***failed resolving arguments***)\u001b[0m\n\u001b[1;32m    273\u001b[0m \u001b[38;5;28;01mtry\u001b[39;00m:\n\u001b[1;32m    274\u001b[0m     \u001b[38;5;28;01mif\u001b[39;00m exc \u001b[38;5;129;01mis\u001b[39;00m \u001b[38;5;28;01mNone\u001b[39;00m:\n\u001b[1;32m    275\u001b[0m         \u001b[38;5;66;03m# We use the `send` method directly, because coroutines\u001b[39;00m\n\u001b[1;32m    276\u001b[0m         \u001b[38;5;66;03m# don't have `__iter__` and `__next__` methods.\u001b[39;00m\n\u001b[0;32m--> 277\u001b[0m         result \u001b[38;5;241m=\u001b[39m \u001b[43mcoro\u001b[49m\u001b[38;5;241;43m.\u001b[39;49m\u001b[43msend\u001b[49m\u001b[43m(\u001b[49m\u001b[38;5;28;43;01mNone\u001b[39;49;00m\u001b[43m)\u001b[49m\n\u001b[1;32m    278\u001b[0m     \u001b[38;5;28;01melse\u001b[39;00m:\n\u001b[1;32m    279\u001b[0m         result \u001b[38;5;241m=\u001b[39m coro\u001b[38;5;241m.\u001b[39mthrow(exc)\n",
      "File \u001b[0;32m~/miniconda3/envs/stac-mjx-env/lib/python3.11/site-packages/orbax/checkpoint/_src/handlers/base_pytree_checkpoint_handler.py:522\u001b[0m, in \u001b[0;36mBasePyTreeCheckpointHandler._maybe_deserialize\u001b[0;34m(self, item, metadata, param_infos, restore_args)\u001b[0m\n\u001b[1;32m    515\u001b[0m byte_limiter \u001b[38;5;241m=\u001b[39m serialization\u001b[38;5;241m.\u001b[39mget_byte_limiter(\n\u001b[1;32m    516\u001b[0m     \u001b[38;5;28mself\u001b[39m\u001b[38;5;241m.\u001b[39m_restore_concurrent_bytes\n\u001b[1;32m    517\u001b[0m )\n\u001b[1;32m    518\u001b[0m param_infos \u001b[38;5;241m=\u001b[39m jax\u001b[38;5;241m.\u001b[39mtree\u001b[38;5;241m.\u001b[39mmap(\n\u001b[1;32m    519\u001b[0m     \u001b[38;5;28;01mlambda\u001b[39;00m info: dataclasses\u001b[38;5;241m.\u001b[39mreplace(info, byte_limiter\u001b[38;5;241m=\u001b[39mbyte_limiter),\n\u001b[1;32m    520\u001b[0m     param_infos,\n\u001b[1;32m    521\u001b[0m )\n\u001b[0;32m--> 522\u001b[0m batch_requests \u001b[38;5;241m=\u001b[39m \u001b[43mbatched_serialization_requests\u001b[49m\u001b[43m(\u001b[49m\n\u001b[1;32m    523\u001b[0m \u001b[43m    \u001b[49m\u001b[43mmetadata\u001b[49m\u001b[43m,\u001b[49m\n\u001b[1;32m    524\u001b[0m \u001b[43m    \u001b[49m\u001b[43mparam_infos\u001b[49m\u001b[43m,\u001b[49m\n\u001b[1;32m    525\u001b[0m \u001b[43m    \u001b[49m\u001b[43mrestore_args\u001b[49m\u001b[43m,\u001b[49m\n\u001b[1;32m    526\u001b[0m \u001b[43m    \u001b[49m\u001b[38;5;28;43mself\u001b[39;49m\u001b[38;5;241;43m.\u001b[39;49m\u001b[43m_type_handler_registry\u001b[49m\u001b[43m,\u001b[49m\n\u001b[1;32m    527\u001b[0m \u001b[43m\u001b[49m\u001b[43m)\u001b[49m\n\u001b[1;32m    528\u001b[0m deserialized_batches \u001b[38;5;241m=\u001b[39m []\n\u001b[1;32m    529\u001b[0m deserialized_batches_ops \u001b[38;5;241m=\u001b[39m []\n",
      "File \u001b[0;32m~/miniconda3/envs/stac-mjx-env/lib/python3.11/site-packages/orbax/checkpoint/_src/handlers/base_pytree_checkpoint_handler.py:211\u001b[0m, in \u001b[0;36mbatched_serialization_requests\u001b[0;34m(tree, param_infos, args, registry)\u001b[0m\n\u001b[1;32m    202\u001b[0m   request \u001b[38;5;241m=\u001b[39m grouped[handler]\n\u001b[1;32m    203\u001b[0m   grouped[handler] \u001b[38;5;241m=\u001b[39m dataclasses\u001b[38;5;241m.\u001b[39mreplace(\n\u001b[1;32m    204\u001b[0m       request,\n\u001b[1;32m    205\u001b[0m       keys\u001b[38;5;241m=\u001b[39mrequest\u001b[38;5;241m.\u001b[39mkeys \u001b[38;5;241m+\u001b[39m [tuple_key],\n\u001b[0;32m   (...)\u001b[0m\n\u001b[1;32m    208\u001b[0m       args\u001b[38;5;241m=\u001b[39mrequest\u001b[38;5;241m.\u001b[39margs \u001b[38;5;241m+\u001b[39m [arg],\n\u001b[1;32m    209\u001b[0m   )\n\u001b[0;32m--> 211\u001b[0m \u001b[43mjax\u001b[49m\u001b[38;5;241;43m.\u001b[39;49m\u001b[43mtree_util\u001b[49m\u001b[38;5;241;43m.\u001b[39;49m\u001b[43mtree_map_with_path\u001b[49m\u001b[43m(\u001b[49m\n\u001b[1;32m    212\u001b[0m \u001b[43m    \u001b[49m\u001b[43m_group_value\u001b[49m\u001b[43m,\u001b[49m\n\u001b[1;32m    213\u001b[0m \u001b[43m    \u001b[49m\u001b[43mparam_infos\u001b[49m\u001b[43m,\u001b[49m\n\u001b[1;32m    214\u001b[0m \u001b[43m    \u001b[49m\u001b[43mtree\u001b[49m\u001b[43m,\u001b[49m\n\u001b[1;32m    215\u001b[0m \u001b[43m    \u001b[49m\u001b[43margs\u001b[49m\u001b[43m,\u001b[49m\n\u001b[1;32m    216\u001b[0m \u001b[43m\u001b[49m\u001b[43m)\u001b[49m\n\u001b[1;32m    217\u001b[0m \u001b[38;5;28;01mreturn\u001b[39;00m \u001b[38;5;28mlist\u001b[39m(grouped\u001b[38;5;241m.\u001b[39mvalues())\n",
      "File \u001b[0;32m~/miniconda3/envs/stac-mjx-env/lib/python3.11/site-packages/jax/_src/tree_util.py:1199\u001b[0m, in \u001b[0;36mtree_map_with_path\u001b[0;34m(f, tree, is_leaf, *rest)\u001b[0m\n\u001b[1;32m   1197\u001b[0m keypath_leaves, treedef \u001b[38;5;241m=\u001b[39m tree_flatten_with_path(tree, is_leaf)\n\u001b[1;32m   1198\u001b[0m keypath_leaves \u001b[38;5;241m=\u001b[39m \u001b[38;5;28mlist\u001b[39m(\u001b[38;5;28mzip\u001b[39m(\u001b[38;5;241m*\u001b[39mkeypath_leaves))\n\u001b[0;32m-> 1199\u001b[0m all_keypath_leaves \u001b[38;5;241m=\u001b[39m keypath_leaves \u001b[38;5;241m+\u001b[39m \u001b[43m[\u001b[49m\u001b[43mtreedef\u001b[49m\u001b[38;5;241;43m.\u001b[39;49m\u001b[43mflatten_up_to\u001b[49m\u001b[43m(\u001b[49m\u001b[43mr\u001b[49m\u001b[43m)\u001b[49m\u001b[43m \u001b[49m\u001b[38;5;28;43;01mfor\u001b[39;49;00m\u001b[43m \u001b[49m\u001b[43mr\u001b[49m\u001b[43m \u001b[49m\u001b[38;5;129;43;01min\u001b[39;49;00m\u001b[43m \u001b[49m\u001b[43mrest\u001b[49m\u001b[43m]\u001b[49m\n\u001b[1;32m   1200\u001b[0m \u001b[38;5;28;01mreturn\u001b[39;00m treedef\u001b[38;5;241m.\u001b[39munflatten(f(\u001b[38;5;241m*\u001b[39mxs) \u001b[38;5;28;01mfor\u001b[39;00m xs \u001b[38;5;129;01min\u001b[39;00m \u001b[38;5;28mzip\u001b[39m(\u001b[38;5;241m*\u001b[39mall_keypath_leaves))\n",
      "File \u001b[0;32m~/miniconda3/envs/stac-mjx-env/lib/python3.11/site-packages/jax/_src/tree_util.py:1199\u001b[0m, in \u001b[0;36m<listcomp>\u001b[0;34m(.0)\u001b[0m\n\u001b[1;32m   1197\u001b[0m keypath_leaves, treedef \u001b[38;5;241m=\u001b[39m tree_flatten_with_path(tree, is_leaf)\n\u001b[1;32m   1198\u001b[0m keypath_leaves \u001b[38;5;241m=\u001b[39m \u001b[38;5;28mlist\u001b[39m(\u001b[38;5;28mzip\u001b[39m(\u001b[38;5;241m*\u001b[39mkeypath_leaves))\n\u001b[0;32m-> 1199\u001b[0m all_keypath_leaves \u001b[38;5;241m=\u001b[39m keypath_leaves \u001b[38;5;241m+\u001b[39m [\u001b[43mtreedef\u001b[49m\u001b[38;5;241;43m.\u001b[39;49m\u001b[43mflatten_up_to\u001b[49m\u001b[43m(\u001b[49m\u001b[43mr\u001b[49m\u001b[43m)\u001b[49m \u001b[38;5;28;01mfor\u001b[39;00m r \u001b[38;5;129;01min\u001b[39;00m rest]\n\u001b[1;32m   1200\u001b[0m \u001b[38;5;28;01mreturn\u001b[39;00m treedef\u001b[38;5;241m.\u001b[39munflatten(f(\u001b[38;5;241m*\u001b[39mxs) \u001b[38;5;28;01mfor\u001b[39;00m xs \u001b[38;5;129;01min\u001b[39;00m \u001b[38;5;28mzip\u001b[39m(\u001b[38;5;241m*\u001b[39mall_keypath_leaves))\n",
      "\u001b[0;31mValueError\u001b[0m: Dict key mismatch; expected keys: ['decoder', 'encoder', 'latent']; dict: {'decoder': {'LayerNorm_0': {'bias': ArrayRestoreArgs(restore_type=<class 'jax.Array'>, dtype=dtype('float32'), mesh=None, mesh_axes=None, sharding=SingleDeviceSharding(device=CudaDevice(id=0), memory_kind=device), global_shape=None), 'scale': ArrayRestoreArgs(restore_type=<class 'jax.Array'>, dtype=dtype('float32'), mesh=None, mesh_axes=None, sharding=SingleDeviceSharding(device=CudaDevice(id=0), memory_kind=device), global_shape=None)}, 'LayerNorm_1': {'bias': ArrayRestoreArgs(restore_type=<class 'jax.Array'>, dtype=dtype('float32'), mesh=None, mesh_axes=None, sharding=SingleDeviceSharding(device=CudaDevice(id=0), memory_kind=device), global_shape=None), 'scale': ArrayRestoreArgs(restore_type=<class 'jax.Array'>, dtype=dtype('float32'), mesh=None, mesh_axes=None, sharding=SingleDeviceSharding(device=CudaDevice(id=0), memory_kind=device), global_shape=None)}, 'hidden_0': {'bias': ArrayRestoreArgs(restore_type=<class 'jax.Array'>, dtype=dtype('float32'), mesh=None, mesh_axes=None, sharding=SingleDeviceSharding(device=CudaDevice(id=0), memory_kind=device), global_shape=None), 'kernel': ArrayRestoreArgs(restore_type=<class 'jax.Array'>, dtype=dtype('float32'), mesh=None, mesh_axes=None, sharding=SingleDeviceSharding(device=CudaDevice(id=0), memory_kind=device), global_shape=None)}, 'hidden_1': {'bias': ArrayRestoreArgs(restore_type=<class 'jax.Array'>, dtype=dtype('float32'), mesh=None, mesh_axes=None, sharding=SingleDeviceSharding(device=CudaDevice(id=0), memory_kind=device), global_shape=None), 'kernel': ArrayRestoreArgs(restore_type=<class 'jax.Array'>, dtype=dtype('float32'), mesh=None, mesh_axes=None, sharding=SingleDeviceSharding(device=CudaDevice(id=0), memory_kind=device), global_shape=None)}, 'hidden_2': {'bias': ArrayRestoreArgs(restore_type=<class 'jax.Array'>, dtype=dtype('float32'), mesh=None, mesh_axes=None, sharding=SingleDeviceSharding(device=CudaDevice(id=0), memory_kind=device), global_shape=None), 'kernel': ArrayRestoreArgs(restore_type=<class 'jax.Array'>, dtype=dtype('float32'), mesh=None, mesh_axes=None, sharding=SingleDeviceSharding(device=CudaDevice(id=0), memory_kind=device), global_shape=None)}}, 'encoder': {'LayerNorm_0': {'bias': ArrayRestoreArgs(restore_type=<class 'jax.Array'>, dtype=dtype('float32'), mesh=None, mesh_axes=None, sharding=SingleDeviceSharding(device=CudaDevice(id=0), memory_kind=device), global_shape=None), 'scale': ArrayRestoreArgs(restore_type=<class 'jax.Array'>, dtype=dtype('float32'), mesh=None, mesh_axes=None, sharding=SingleDeviceSharding(device=CudaDevice(id=0), memory_kind=device), global_shape=None)}, 'LayerNorm_1': {'bias': ArrayRestoreArgs(restore_type=<class 'jax.Array'>, dtype=dtype('float32'), mesh=None, mesh_axes=None, sharding=SingleDeviceSharding(device=CudaDevice(id=0), memory_kind=device), global_shape=None), 'scale': ArrayRestoreArgs(restore_type=<class 'jax.Array'>, dtype=dtype('float32'), mesh=None, mesh_axes=None, sharding=SingleDeviceSharding(device=CudaDevice(id=0), memory_kind=device), global_shape=None)}, 'fc2_logvar': {'bias': ArrayRestoreArgs(restore_type=<class 'jax.Array'>, dtype=dtype('float32'), mesh=None, mesh_axes=None, sharding=SingleDeviceSharding(device=CudaDevice(id=0), memory_kind=device), global_shape=None), 'kernel': ArrayRestoreArgs(restore_type=<class 'jax.Array'>, dtype=dtype('float32'), mesh=None, mesh_axes=None, sharding=SingleDeviceSharding(device=CudaDevice(id=0), memory_kind=device), global_shape=None)}, 'fc2_mean': {'bias': ArrayRestoreArgs(restore_type=<class 'jax.Array'>, dtype=dtype('float32'), mesh=None, mesh_axes=None, sharding=SingleDeviceSharding(device=CudaDevice(id=0), memory_kind=device), global_shape=None), 'kernel': ArrayRestoreArgs(restore_type=<class 'jax.Array'>, dtype=dtype('float32'), mesh=None, mesh_axes=None, sharding=SingleDeviceSharding(device=CudaDevice(id=0), memory_kind=device), global_shape=None)}, 'hidden_0': {'bias': ArrayRestoreArgs(restore_type=<class 'jax.Array'>, dtype=dtype('float32'), mesh=None, mesh_axes=None, sharding=SingleDeviceSharding(device=CudaDevice(id=0), memory_kind=device), global_shape=None), 'kernel': ArrayRestoreArgs(restore_type=<class 'jax.Array'>, dtype=dtype('float32'), mesh=None, mesh_axes=None, sharding=SingleDeviceSharding(device=CudaDevice(id=0), memory_kind=device), global_shape=None)}, 'hidden_1': {'bias': ArrayRestoreArgs(restore_type=<class 'jax.Array'>, dtype=dtype('float32'), mesh=None, mesh_axes=None, sharding=SingleDeviceSharding(device=CudaDevice(id=0), memory_kind=device), global_shape=None), 'kernel': ArrayRestoreArgs(restore_type=<class 'jax.Array'>, dtype=dtype('float32'), mesh=None, mesh_axes=None, sharding=SingleDeviceSharding(device=CudaDevice(id=0), memory_kind=device), global_shape=None)}}}."
     ]
    }
   ],
   "source": [
    "def policy_params_fn(num_steps, make_policy, params, policy_params_fn_key, model_path=model_path):\n",
    "  # save checkpoints\n",
    "  orbax_checkpointer = ocp.PyTreeCheckpointer()\n",
    "  save_args = orbax_utils.save_args_from_target(params)\n",
    "  path = Path('/data/users/hg84/biomech_model/Flybody/RL_Flybody/debug/Test_paths') / f'{num_steps}'\n",
    "  orbax_checkpointer.save(path, params, force=True, save_args=save_args)\n",
    "  \n",
    "  \n",
    "episode_length = (env_args.clip_length - 50 - env_cfg.ref_traj_length) * env._steps_for_cur_frame\n",
    "print(f\"episode_length {episode_length}\")\n",
    "\n",
    "train_fn = functools.partial(\n",
    "            ppo.train,\n",
    "            num_envs=cfg.train[\"num_envs\"],\n",
    "            num_timesteps=0,\n",
    "            num_evals=1,\n",
    "            num_resets_per_eval=cfg.train['num_resets_per_eval'],\n",
    "            reward_scaling=cfg.train['reward_scaling'],\n",
    "            episode_length=episode_length,\n",
    "            normalize_observations=True,\n",
    "            action_repeat=cfg.train['action_repeat'],\n",
    "            clipping_epsilon=cfg.train[\"clipping_epsilon\"],\n",
    "            unroll_length=cfg.train['unroll_length'],\n",
    "            num_minibatches=cfg.train[\"num_minibatches\"],\n",
    "            num_updates_per_batch=cfg.train[\"num_updates_per_batch\"],\n",
    "            discounting=cfg.train['discounting'],\n",
    "            learning_rate=cfg.train[\"learning_rate\"],\n",
    "            kl_weight=cfg.train[\"kl_weight\"],\n",
    "            entropy_cost=cfg.train['entropy_cost'],\n",
    "            batch_size=cfg.train[\"batch_size\"],\n",
    "            seed=cfg.train['seed'],\n",
    "            network_factory=functools.partial(\n",
    "                custom_ppo_networks.make_intention_ppo_networks,\n",
    "                encoder_hidden_layer_sizes=cfg.train['encoder_hidden_layer_sizes'],\n",
    "                decoder_hidden_layer_sizes=cfg.train['decoder_hidden_layer_sizes'],\n",
    "                value_hidden_layer_sizes=cfg.train['value_hidden_layer_sizes'],\n",
    "            ),\n",
    "            restore_checkpoint_path=max_ckpt,\n",
    "        )\n",
    "\n",
    "make_inference_fn, params, _= train_fn(environment=env,)\n",
    "params2 = (params[0],params[1].policy)\n",
    "policy_params = (params[0],params[1].policy)\n",
    "# Env_steps = params[2]\n",
    "jit_inference_fn = jax.jit(make_inference_fn(policy_params, deterministic=True))"
   ]
  },
  {
   "cell_type": "code",
   "execution_count": 15,
   "metadata": {},
   "outputs": [
    {
     "data": {
      "text/plain": [
       "{'name': 'train_fly_multiclip', 'version': '${resolve_default:debug,${..version}}', 'gpu': '${resolve_default:0,${..gpu}}', 'wandb_project': 'hg_debug', 'env_name': 'fly_freejnt_multiclip', 'algo_name': 'ppo', 'task_name': '${dataset.dname}', 'note': None, 'num_envs': 2048, 'num_timesteps': 10000000000, 'eval_every': 10000000, 'num_resets_per_eval': 1, 'reward_scaling': 1, 'episode_length': 1001, 'normalize_observations': True, 'action_repeat': 1, 'clipping_epsilon': 0.2, 'unroll_length': 20, 'num_minibatches': 32, 'num_updates_per_batch': 8, 'discounting': 0.95, 'learning_rate': 2e-05, 'kl_weight': 0.005, 'entropy_cost': 0.01, 'batch_size': '${train.num_envs}', 'seed': 0, 'encoder_hidden_layer_sizes': [256, 256], 'decoder_hidden_layer_sizes': [256, 256], 'value_hidden_layer_sizes': [256, 256], 'restore_checkpoint': False, 'freeze_encoder': False, 'state_metric_list': ['pos_reward', 'quat_reward', 'joint_reward', 'angvel_reward', 'bodypos_reward', 'endeff_reward', 'reward_ctrlcost', 'too_far', 'bad_pose', 'bad_quat', 'termination', 'fall'], 'info_metric_list': ['cur_frame', 'summed_pos_distance', 'quat_distance', 'joint_distance', 'angvel_distance', 'bodypos_distance', 'endeff_distance']}"
      ]
     },
     "execution_count": 15,
     "metadata": {},
     "output_type": "execute_result"
    }
   ],
   "source": [
    "cfg.train"
   ]
  },
  {
   "cell_type": "code",
   "execution_count": null,
   "metadata": {},
   "outputs": [],
   "source": []
  },
  {
   "cell_type": "code",
   "execution_count": null,
   "metadata": {},
   "outputs": [],
   "source": []
  },
  {
   "cell_type": "code",
   "execution_count": null,
   "metadata": {},
   "outputs": [],
   "source": [
    "state.info['clip_idx'] = 1\n",
    "print(state.info['clip_idx'])\n",
    "# reset_rng, act_rng = jax.random.split(policy_params_fn_key)\n",
    "rng = jax.random.PRNGKey(0)\n",
    "reset_rng, act_rng = jax.random.split(rng)\n",
    "state = jit_reset(reset_rng)\n",
    "\n",
    "rollout = [state]\n",
    "# rollout_len = env_args[\"clip_length\"]*int(rollout_env._steps_for_cur_frame)\n",
    "rollout_len = 1000\n",
    "ctrl_all = []\n",
    "for i in range(rollout_len):\n",
    "    _, act_rng = jax.random.split(act_rng)\n",
    "    obs = state.obs\n",
    "    ctrl, extras = jit_inference_fn(obs, act_rng)\n",
    "    state = jit_step(state, ctrl)\n",
    "    ctrl_all.append(ctrl.copy())\n",
    "    rollout.append(state)\n",
    "rollout2 = [state.pipeline_state for state in rollout]\n"
   ]
  },
  {
   "cell_type": "code",
   "execution_count": null,
   "metadata": {},
   "outputs": [],
   "source": [
    "scene_option = mujoco.MjvOption()\n",
    "scene_option.flags[mujoco.mjtVisFlag.mjVIS_TRANSPARENT] = True\n",
    "scene_option.flags[mujoco.mjtVisFlag.mjVIS_CONTACTPOINT] = True\n",
    "scene_option.flags[mujoco.mjtVisFlag.mjVIS_CONTACTFORCE] = True\n",
    "\n",
    "pixels = rollout_env.render(rollout2, camera='track1', width=480, height=480, scene_option=scene_option)\n",
    "media.show_video(pixels,fps=50)"
   ]
  },
  {
   "cell_type": "code",
   "execution_count": null,
   "metadata": {},
   "outputs": [],
   "source": [
    "qposes_rollout = np.array([state.pipeline_state.qpos for state in rollout])\n",
    "\n",
    "ref_traj = env._get_reference_clip(rollout[0].info)\n",
    "print(f\"clip_id:{rollout[0].info['clip_idx']}\")\n",
    "qposes_ref = np.repeat(\n",
    "    np.hstack([ref_traj.position, ref_traj.quaternion, ref_traj.joints]),\n",
    "    env._steps_for_cur_frame,\n",
    "    axis=0,\n",
    ")\n",
    "spec = mujoco.MjSpec()\n",
    "spec = spec.from_file(cfg.dataset.rendering_mjcf)\n",
    "mj_model = spec.compile()\n",
    "print(cfg.dataset.rendering_mjcf)\n",
    "mj_model.opt.solver = {\n",
    "    \"cg\": mujoco.mjtSolver.mjSOL_CG,\n",
    "    \"newton\": mujoco.mjtSolver.mjSOL_NEWTON,\n",
    "}[\"cg\"]\n",
    "mj_model.opt.iterations = cfg.dataset.env_args.iterations\n",
    "mj_model.opt.ls_iterations = cfg.dataset.env_args.ls_iterations\n",
    "mj_model.opt.timestep = env.sys.mj_model.opt.timestep\n",
    "\n",
    "mj_data = mujoco.MjData(mj_model)\n",
    "site_id = [\n",
    "    mj_model.site(i).id\n",
    "    for i in range(mj_model.nsite)\n",
    "    if \"-0\" in mj_model.site(i).name\n",
    "]\n",
    "for id in site_id:\n",
    "    mj_model.site(id).rgba = [1, 0, 0, 1]\n",
    "\n",
    "scene_option = mujoco.MjvOption()\n",
    "scene_option.sitegroup[:] = [1, 1, 1, 1, 1, 0]\n",
    "scene_option.flags[mujoco.mjtVisFlag.mjVIS_CONTACTPOINT] = True\n",
    "scene_option.flags[mujoco.mjtVisFlag.mjVIS_CONTACTFORCE] = True\n",
    "\n",
    "# save rendering and log to wandb\n",
    "os.environ[\"MUJOCO_GL\"] = \"osmesa\"\n",
    "mujoco.mj_kinematics(mj_model, mj_data)\n",
    "# renderer = mujoco.Renderer(mj_model, height=512, width=512)\n",
    "\n",
    "frames = []\n",
    "# render while stepping using mujoco\n",
    "with mujoco.Renderer(mj_model, height=480, width=480) as renderer:\n",
    "    for qpos1, qpos2 in zip(qposes_rollout, qposes_ref):\n",
    "        mj_data.qpos = np.append(qpos1, qpos2)\n",
    "        mujoco.mj_forward(mj_model, mj_data)\n",
    "        renderer.update_scene(mj_data, camera=1, scene_option=scene_option)\n",
    "        pixels = renderer.render()\n",
    "        frames.append(pixels)"
   ]
  },
  {
   "cell_type": "code",
   "execution_count": null,
   "metadata": {},
   "outputs": [],
   "source": [
    "media.show_video(frames,fps=50)"
   ]
  },
  {
   "cell_type": "code",
   "execution_count": null,
   "metadata": {},
   "outputs": [],
   "source": [
    "for n, joint in enumerate(joint_names):\n",
    "   print(f'{n}: {joint}')"
   ]
  },
  {
   "cell_type": "code",
   "execution_count": null,
   "metadata": {},
   "outputs": [],
   "source": [
    "joint_idxs = env._joint_idxs\n",
    "joint_names = cfg.dataset.env_args.joint_names\n",
    "\n",
    "joints_policy = qposes_rollout[:, joint_idxs]\n",
    "joints_ref = qposes_ref[:, joint_idxs]\n",
    "\n",
    "fig, axs = plt.subplots(2, 1, figsize=(10, 10))\n",
    "# for i in range(joints_policy.shape[1]):\n",
    "i = 10\n",
    "axs[0].plot(joints_ref[:, i], label=joint_names[i])\n",
    "axs[0].plot(joints_policy[:, i], label=joint_names[i])\n",
    "\n",
    "i=12\n",
    "axs[1].plot(joints_ref[:, i], label=joint_names[i])\n",
    "axs[1].plot(joints_policy[:, i], label=joint_names[i])\n"
   ]
  },
  {
   "cell_type": "code",
   "execution_count": null,
   "metadata": {},
   "outputs": [],
   "source": []
  },
  {
   "cell_type": "code",
   "execution_count": null,
   "metadata": {},
   "outputs": [],
   "source": []
  },
  {
   "cell_type": "code",
   "execution_count": null,
   "metadata": {},
   "outputs": [],
   "source": [
    "ctrl_all = jp.array(ctrl_all)\n",
    "model_path = \"/home/eabe/Research/MyRepos/Brax-Rodent-Track/assets/fruitfly/fruitfly_force_fast_amp.xml\"\n",
    "spec = mujoco.MjSpec()\n",
    "spec = spec.from_file(model_path)\n",
    "thorax = spec.find_body(\"thorax\")\n",
    "first_joint = thorax.first_joint()\n",
    "# first_joint.delete()\n",
    "root = spec.compile()\n",
    "root.opt.solver = {\n",
    "    \"cg\": mujoco.mjtSolver.mjSOL_CG,\n",
    "    \"newton\": mujoco.mjtSolver.mjSOL_NEWTON,\n",
    "}[cfg.dataset.env_args.solver.lower()]\n",
    "root.opt.iterations = env_args.iterations\n",
    "root.opt.ls_iterations = env_args.ls_iterations\n",
    "root.opt.timestep = env_args.physics_timestep\n",
    "root.opt.jacobian = 0\n",
    "data = mujoco.MjData(root)\n",
    "data.qpos = qposes_rollout[0]\n",
    "mujoco.mj_forward(root, data)\n",
    "n_frames = ctrl_all.shape[0]\n",
    "height = 512\n",
    "width = 512\n",
    "frames = []\n",
    "fps = 1/env.dt\n",
    "times = []\n",
    "sensordata = []\n",
    "scene_option = mujoco.MjvOption()\n",
    "scene_option.sitegroup[:] = [1, 1, 1, 1, 1, 0]\n",
    "\n",
    "scene_option.flags[mujoco.mjtVisFlag.mjVIS_CONTACTPOINT] = True\n",
    "scene_option.flags[mujoco.mjtVisFlag.mjVIS_CONTACTFORCE] = True\n",
    "\n",
    "qpos_all,rollout,ncon_all = [],[],[]\n",
    "with mujoco.Renderer(root, height, width) as renderer:\n",
    "    for i in range(n_frames):\n",
    "        data.ctrl = ctrl_all[i].copy()\n",
    "        # data.qpos = qposes_rollout[i].copy()\n",
    "        while data.time < i/fps:\n",
    "            mujoco.mj_step(root, data)\n",
    "        sensordata.append(data.sensordata.copy())\n",
    "        times.append(data.time)\n",
    "        renderer.update_scene(data,camera='track1',scene_option=scene_option)\n",
    "        frame = renderer.render()\n",
    "        frames.append(frame)\n",
    "        qpos_all.append(data.qpos.copy())\n",
    "        ncon_all.append(data.ncon)\n",
    "        rollout.append(data)\n",
    "\n",
    "media.show_video(frames, fps=50)\n"
   ]
  },
  {
   "cell_type": "code",
   "execution_count": 17,
   "metadata": {},
   "outputs": [],
   "source": [
    "# 1 (mg cm) / (s^2) = 1.0 × 10-8 newtons"
   ]
  },
  {
   "cell_type": "code",
   "execution_count": null,
   "metadata": {},
   "outputs": [],
   "source": [
    "torque_data[f'clip{n:02d}'].keys()"
   ]
  },
  {
   "cell_type": "code",
   "execution_count": null,
   "metadata": {},
   "outputs": [],
   "source": [
    "torque_data = ioh5.load('/data/users/eabe/biomech_model/Flybody/datasets/Tuthill_data/Torque_control_multiclip.h5')\n",
    "mclip_sensor = [torque_data[f'clip{n:02d}']['sensordata'] for n in range(17)]"
   ]
  },
  {
   "cell_type": "code",
   "execution_count": 226,
   "metadata": {},
   "outputs": [],
   "source": [
    "sensordata = [state.pipeline_state.sensordata for state in rollout]\n",
    "sensordata = np.stack(sensordata)#[:,:-5]\n",
    "touch_sensors = sensordata#[:, -5:]"
   ]
  },
  {
   "cell_type": "code",
   "execution_count": null,
   "metadata": {},
   "outputs": [],
   "source": [
    "plt.plot(np.max(np.abs(sensordata), axis=0))"
   ]
  },
  {
   "cell_type": "code",
   "execution_count": null,
   "metadata": {},
   "outputs": [],
   "source": [
    "plt.plot(np.max(np.abs(sensordata), axis=0))"
   ]
  },
  {
   "cell_type": "code",
   "execution_count": null,
   "metadata": {},
   "outputs": [],
   "source": [
    "N = 5\n",
    "sdata = (sensordata.reshape(sensordata.shape[0],-1,3)) # Time x end_eff x xyz, x=forward 1e-8*\n",
    "sdata = np.apply_along_axis(lambda m: np.convolve(m, np.ones(N)/N, mode='full'), axis=0, arr=sdata)\n",
    "end_eff = [\n",
    "# 'claw_T1_left',\n",
    "'claw_T1_right',\n",
    "'claw_T2_left',\n",
    "'claw_T2_right',\n",
    "'claw_T3_left',\n",
    "'claw_T3_right',\n",
    "]\n",
    "t = 100\n",
    "dt = 100\n",
    "fig, axs = plt.subplots(3, 2, figsize=(10, 10))\n",
    "axs = axs.flatten()\n",
    "ax = axs[0]\n",
    "t_frame = 45\n",
    "ax.imshow(pixels[t+t_frame])\n",
    "ax.axis('off')\n",
    "for n in range(0,len(end_eff)):\n",
    "    ax = axs[n+1]\n",
    "    ax.plot(sdata[t:t+dt,n,0])\n",
    "    ax.plot(sdata[t:t+dt,n,1])\n",
    "    ax.plot(sdata[t:t+dt,n,2])\n",
    "    ax.axvline(t_frame, color='r')\n",
    "# plt.plot(sdata[:,:,2])"
   ]
  },
  {
   "cell_type": "code",
   "execution_count": null,
   "metadata": {},
   "outputs": [],
   "source": [
    "plt.plot(touch_sensors[t:dt,1])"
   ]
  },
  {
   "cell_type": "code",
   "execution_count": null,
   "metadata": {},
   "outputs": [],
   "source": [
    "N = 50\n",
    "sdata = 1e-8*(np.stack(sensordata).reshape(-1,6,3)) # Time x end_eff x xyz, x=forward\n",
    "sdata = np.apply_along_axis(lambda m: np.convolve(m, np.ones(N)/N, mode='full'), axis=0, arr=sdata)\n",
    "\n",
    "fig, axs = plt.subplots(3, 2, figsize=(10, 10), sharey=True)\n",
    "axs = axs.flatten()\n",
    "for n in range(len(end_eff)):\n",
    "    ax = axs[n]\n",
    "    ax.plot(sdata[:,n,0])\n",
    "    ax.plot(sdata[:,n,1])\n",
    "    ax.plot(sdata[:,n,2])\n",
    "# plt.plot(sdata[:,:,2])"
   ]
  },
  {
   "cell_type": "code",
   "execution_count": null,
   "metadata": {},
   "outputs": [],
   "source": []
  }
 ],
 "metadata": {
  "kernelspec": {
   "display_name": "stac-mjx-env",
   "language": "python",
   "name": "python3"
  },
  "language_info": {
   "codemirror_mode": {
    "name": "ipython",
    "version": 3
   },
   "file_extension": ".py",
   "mimetype": "text/x-python",
   "name": "python",
   "nbconvert_exporter": "python",
   "pygments_lexer": "ipython3",
   "version": "3.11.10"
  }
 },
 "nbformat": 4,
 "nbformat_minor": 2
}
